{
 "cells": [
  {
   "cell_type": "markdown",
   "id": "d27da3a9",
   "metadata": {},
   "source": [
    "CIND 820 FINAL PROJECT : Customer Churn Prediction in E-commerce and Telecommunications"
   ]
  },
  {
   "cell_type": "markdown",
   "id": "8b30e204",
   "metadata": {},
   "source": [
    "# ANALYSIS OF THE TELECOMMUNICATION DATASET"
   ]
  },
  {
   "cell_type": "code",
   "execution_count": 1,
   "id": "ce08fa30",
   "metadata": {},
   "outputs": [],
   "source": [
    "# 1. LOAD LIBRARIES\n",
    "import pandas as pd\n",
    "import matplotlib.pyplot as plt\n",
    "import seaborn as sns\n",
    "import numpy as np\n",
    "import matplotlib\n",
    "matplotlib.use('TkAgg') "
   ]
  },
  {
   "cell_type": "code",
   "execution_count": 2,
   "id": "3f75960c",
   "metadata": {},
   "outputs": [
    {
     "name": "stderr",
     "output_type": "stream",
     "text": [
      "c:\\Users\\emine\\AppData\\Local\\Programs\\Python\\Python312\\Lib\\site-packages\\tqdm\\auto.py:21: TqdmWarning: IProgress not found. Please update jupyter and ipywidgets. See https://ipywidgets.readthedocs.io/en/stable/user_install.html\n",
      "  from .autonotebook import tqdm as notebook_tqdm\n"
     ]
    },
    {
     "data": {
      "text/html": [
       "\n",
       "            <div>\n",
       "                <ins><a href=\"https://ydata.ai/register\">Upgrade to ydata-sdk</a></ins>\n",
       "                <p>\n",
       "                    Improve your data and profiling with ydata-sdk, featuring data quality scoring, redundancy detection, outlier identification, text validation, and synthetic data generation.\n",
       "                </p>\n",
       "            </div>\n",
       "            "
      ],
      "text/plain": [
       "<IPython.core.display.HTML object>"
      ]
     },
     "metadata": {},
     "output_type": "display_data"
    },
    {
     "name": "stderr",
     "output_type": "stream",
     "text": [
      "C:\\Users\\emine\\AppData\\Local\\Temp\\ipykernel_19512\\2019864079.py:11: DeprecationWarning: `import pandas_profiling` is going to be deprecated by April 1st. Please use `import ydata_profiling` instead.\n",
      "  from pandas_profiling import ProfileReport\n"
     ]
    }
   ],
   "source": [
    "from sklearn.decomposition import PCA\n",
    "from sklearn.preprocessing import StandardScaler\n",
    "from sklearn.linear_model import LogisticRegression\n",
    "from sklearn.metrics import classification_report, roc_auc_score, accuracy_score, roc_curve, precision_recall_curve\n",
    "from sklearn.model_selection import train_test_split, GridSearchCV, cross_val_score, StratifiedKFold\n",
    "from sklearn.ensemble import RandomForestClassifier\n",
    "from xgboost import XGBClassifier\n",
    "import shap\n",
    "from imblearn.over_sampling import SMOTE\n",
    "from sklearn.metrics import f1_score\n",
    "from pandas_profiling import ProfileReport"
   ]
  },
  {
   "cell_type": "markdown",
   "id": "d5e2e534",
   "metadata": {},
   "source": [
    "COMMENT: These libraries are essential for data manipulation (pandas, numpy), visualization (matplotlib, seaborn), and ensuring plots display correctly in all environments."
   ]
  },
  {
   "cell_type": "code",
   "execution_count": 3,
   "id": "3155f5af",
   "metadata": {},
   "outputs": [],
   "source": [
    "# 2. LOAD THE DATASET\n",
    "file_path = \"C:\\\\Users\\\\emine\\\\OneDrive\\\\Masaüstü\\\\CIND820\\\\Telco-Customer-Churn.csv\"\n",
    "df_telco = pd.read_csv(file_path)"
   ]
  },
  {
   "cell_type": "markdown",
   "id": "254139ed",
   "metadata": {},
   "source": [
    "COMMENT: Load Telco customer churn dataset into a Pandas DataFrame for exploration and modeling."
   ]
  },
  {
   "cell_type": "code",
   "execution_count": 4,
   "id": "fa4e5402",
   "metadata": {},
   "outputs": [
    {
     "name": "stderr",
     "output_type": "stream",
     "text": [
      "100%|██████████| 21/21 [00:00<00:00, 62.01it/s]0<00:00, 13.23it/s, Describe variable: Churn]          \n",
      "Summarize dataset: 100%|██████████| 34/34 [00:02<00:00, 14.76it/s, Completed]                             \n",
      "Generate report structure: 100%|██████████| 1/1 [00:06<00:00,  6.65s/it]\n",
      "Render HTML: 100%|██████████| 1/1 [00:00<00:00,  1.79it/s]\n",
      "Export report to file: 100%|██████████| 1/1 [00:00<00:00, 124.39it/s]\n"
     ]
    }
   ],
   "source": [
    "# 2.1. BUILT EDA REPORT W/ RAW DATASET\n",
    "# Load the raw dataset for EDA report generation\n",
    "df_raw = pd.read_csv(file_path)\n",
    "# Importing the pandas_profiling library for EDA report generation\n",
    "from pandas_profiling import ProfileReport\n",
    "# Generate a profiling report\n",
    "profile_raw = ProfileReport(df_raw, title=\"EDA Report - Raw Telco Data\", explorative=True)\n",
    "# Save the report to an HTML file\n",
    "profile_raw.to_file(\"C:/Users/emine/OneDrive/Masaüstü/CIND820/eda_telco_raw.html\")\n",
    "# COMMENT: Generates an exploratory data analysis (EDA) report for the raw dataset, providing insights into data structure, distributions, and potential issues."
   ]
  },
  {
   "cell_type": "code",
   "execution_count": 5,
   "id": "69fb1ed4",
   "metadata": {},
   "outputs": [
    {
     "name": "stdout",
     "output_type": "stream",
     "text": [
      "<class 'pandas.core.frame.DataFrame'>\n",
      "RangeIndex: 7043 entries, 0 to 7042\n",
      "Data columns (total 21 columns):\n",
      " #   Column            Non-Null Count  Dtype  \n",
      "---  ------            --------------  -----  \n",
      " 0   customerID        7043 non-null   object \n",
      " 1   gender            7043 non-null   object \n",
      " 2   SeniorCitizen     7043 non-null   int64  \n",
      " 3   Partner           7043 non-null   object \n",
      " 4   Dependents        7043 non-null   object \n",
      " 5   tenure            7043 non-null   int64  \n",
      " 6   PhoneService      7043 non-null   object \n",
      " 7   MultipleLines     7043 non-null   object \n",
      " 8   InternetService   7043 non-null   object \n",
      " 9   OnlineSecurity    7043 non-null   object \n",
      " 10  OnlineBackup      7043 non-null   object \n",
      " 11  DeviceProtection  7043 non-null   object \n",
      " 12  TechSupport       7043 non-null   object \n",
      " 13  StreamingTV       7043 non-null   object \n",
      " 14  StreamingMovies   7043 non-null   object \n",
      " 15  Contract          7043 non-null   object \n",
      " 16  PaperlessBilling  7043 non-null   object \n",
      " 17  PaymentMethod     7043 non-null   object \n",
      " 18  MonthlyCharges    7043 non-null   float64\n",
      " 19  TotalCharges      7043 non-null   object \n",
      " 20  Churn             7043 non-null   object \n",
      "dtypes: float64(1), int64(2), object(18)\n",
      "memory usage: 1.1+ MB\n",
      "None\n",
      "   customerID  gender  SeniorCitizen Partner Dependents  tenure PhoneService  \\\n",
      "0  7590-VHVEG  Female              0     Yes         No       1           No   \n",
      "1  5575-GNVDE    Male              0      No         No      34          Yes   \n",
      "2  3668-QPYBK    Male              0      No         No       2          Yes   \n",
      "3  7795-CFOCW    Male              0      No         No      45           No   \n",
      "4  9237-HQITU  Female              0      No         No       2          Yes   \n",
      "\n",
      "      MultipleLines InternetService OnlineSecurity  ... DeviceProtection  \\\n",
      "0  No phone service             DSL             No  ...               No   \n",
      "1                No             DSL            Yes  ...              Yes   \n",
      "2                No             DSL            Yes  ...               No   \n",
      "3  No phone service             DSL            Yes  ...              Yes   \n",
      "4                No     Fiber optic             No  ...               No   \n",
      "\n",
      "  TechSupport StreamingTV StreamingMovies        Contract PaperlessBilling  \\\n",
      "0          No          No              No  Month-to-month              Yes   \n",
      "1          No          No              No        One year               No   \n",
      "2          No          No              No  Month-to-month              Yes   \n",
      "3         Yes          No              No        One year               No   \n",
      "4          No          No              No  Month-to-month              Yes   \n",
      "\n",
      "               PaymentMethod MonthlyCharges  TotalCharges Churn  \n",
      "0           Electronic check          29.85         29.85    No  \n",
      "1               Mailed check          56.95        1889.5    No  \n",
      "2               Mailed check          53.85        108.15   Yes  \n",
      "3  Bank transfer (automatic)          42.30       1840.75    No  \n",
      "4           Electronic check          70.70        151.65   Yes  \n",
      "\n",
      "[5 rows x 21 columns]\n",
      "       SeniorCitizen       tenure  MonthlyCharges\n",
      "count    7043.000000  7043.000000     7043.000000\n",
      "mean        0.162147    32.371149       64.761692\n",
      "std         0.368612    24.559481       30.090047\n",
      "min         0.000000     0.000000       18.250000\n",
      "25%         0.000000     9.000000       35.500000\n",
      "50%         0.000000    29.000000       70.350000\n",
      "75%         0.000000    55.000000       89.850000\n",
      "max         1.000000    72.000000      118.750000\n"
     ]
    }
   ],
   "source": [
    "# 3. DISPLAY BASIC INFORMATION\n",
    "print(df_telco.info())\n",
    "print(df_telco.head())\n",
    "print(df_telco.describe())"
   ]
  },
  {
   "cell_type": "markdown",
   "id": "a05a6733",
   "metadata": {},
   "source": [
    "COMMENT: Provides a snapshot of data structure, missing values, and descriptive statistics to inform the next cleaning steps."
   ]
  },
  {
   "cell_type": "code",
   "execution_count": 6,
   "id": "5b5548b7",
   "metadata": {},
   "outputs": [],
   "source": [
    "# 3.1. Dimensionality Reduction with PCA\n",
    "# Import necessary libraries for PCA\n",
    "from sklearn.decomposition import PCA\n",
    "from sklearn.preprocessing import StandardScaler"
   ]
  },
  {
   "cell_type": "code",
   "execution_count": 7,
   "id": "4c230815",
   "metadata": {},
   "outputs": [],
   "source": [
    "# Split target variable before encoding\n",
    "y = df_telco[\"Churn\"]  # Hedef değişkeni ayır"
   ]
  },
  {
   "cell_type": "code",
   "execution_count": 8,
   "id": "df977981",
   "metadata": {},
   "outputs": [],
   "source": [
    "# One-hot encode other categorical variables (excluding 'Churn')\n",
    "cat_cols = df_telco.drop(\"Churn\", axis=1).select_dtypes(include=['object']).columns.tolist()\n",
    "df_telco_encoded = pd.get_dummies(df_telco.drop(\"Churn\", axis=1), columns=cat_cols, drop_first=True)"
   ]
  },
  {
   "cell_type": "code",
   "execution_count": 9,
   "id": "d8fb0e87",
   "metadata": {},
   "outputs": [],
   "source": [
    "X = df_telco_encoded"
   ]
  },
  {
   "cell_type": "code",
   "execution_count": 10,
   "id": "e68bf924",
   "metadata": {},
   "outputs": [],
   "source": [
    "# Encode target variable (if needed)\n",
    "y = y.map({\"No\": 0, \"Yes\": 1})  # Sayısal hale getir (isteğe bağlı)"
   ]
  },
  {
   "cell_type": "code",
   "execution_count": 11,
   "id": "4e65692e",
   "metadata": {},
   "outputs": [],
   "source": [
    "# Scaling for PCA\n",
    "scaler = StandardScaler()\n",
    "X_scaled = scaler.fit_transform(X)"
   ]
  },
  {
   "cell_type": "code",
   "execution_count": null,
   "id": "a84845af",
   "metadata": {},
   "outputs": [],
   "source": [
    "# Apply PCA to reduce to 10 dimensions\n",
    "pca = PCA(n_components=10)\n",
    "X_pca = pca.fit_transform(X_scaled)"
   ]
  },
  {
   "cell_type": "code",
   "execution_count": 18,
   "id": "783cd479",
   "metadata": {},
   "outputs": [],
   "source": [
    "# Resulting DataFrame for PCA results\n",
    "pca_df = pd.DataFrame(data=X_pca, columns=['PC1', 'PC2', 'PC3', 'PC4', 'PC5', 'PC6', 'PC7', 'PC8', 'PC9', 'PC10'])\n",
    "pca_df['Churn'] = y.values"
   ]
  },
  {
   "cell_type": "code",
   "execution_count": 21,
   "id": "96444df3",
   "metadata": {},
   "outputs": [],
   "source": [
    "# Visualization of PCA results\n",
    "plt.figure(figsize=(8, 6))\n",
    "sns.scatterplot(data=pca_df, x='PC1', y='PC2', hue='Churn', palette='coolwarm', alpha=0.6)\n",
    "plt.title(\"PCA Projection of Customers (2D)\")\n",
    "plt.xlabel(\"Principal Component 1\")\n",
    "plt.ylabel(\"Principal Component 2\")\n",
    "plt.legend(title='Churn')\n",
    "plt.tight_layout()\n",
    "plt.show()\n"
   ]
  },
  {
   "cell_type": "code",
   "execution_count": 22,
   "id": "0f358a7c",
   "metadata": {},
   "outputs": [
    {
     "name": "stdout",
     "output_type": "stream",
     "text": [
      "Total Explained Variance (10 PCs): 0.29%\n"
     ]
    }
   ],
   "source": [
    "# Explained variance\n",
    "explained_var = pca.explained_variance_ratio_\n",
    "print(f\"Total Explained Variance (10 PCs): {explained_var.sum():.2%}\")\n",
    "\n"
   ]
  },
  {
   "cell_type": "markdown",
   "id": "1ab1e67f",
   "metadata": {},
   "source": [
    "#Although PCA was applied to project customers onto a 2D space, the first 10 components explained less than 1% of total variance, indicating limited dimensional structure. Thus, the projection is for exploratory visualization only."
   ]
  },
  {
   "cell_type": "code",
   "execution_count": 23,
   "id": "9f485d78",
   "metadata": {},
   "outputs": [
    {
     "name": "stdout",
     "output_type": "stream",
     "text": [
      "Unique values per column:\n",
      " gender                 2\n",
      "SeniorCitizen          2\n",
      "Partner                2\n",
      "Dependents             2\n",
      "PhoneService           2\n",
      "PaperlessBilling       2\n",
      "Churn                  2\n",
      "MultipleLines          3\n",
      "TechSupport            3\n",
      "StreamingTV            3\n",
      "OnlineBackup           3\n",
      "DeviceProtection       3\n",
      "StreamingMovies        3\n",
      "Contract               3\n",
      "OnlineSecurity         3\n",
      "InternetService        3\n",
      "PaymentMethod          4\n",
      "tenure                73\n",
      "MonthlyCharges      1585\n",
      "TotalCharges        6531\n",
      "customerID          7043\n",
      "dtype: int64\n"
     ]
    }
   ],
   "source": [
    "# 4. CHECK NUMBER OF UNIQUE VALUES PER COLUMN\n",
    "unique_values = df_telco.nunique().sort_values()\n",
    "print(\"Unique values per column:\\n\", unique_values)"
   ]
  },
  {
   "cell_type": "markdown",
   "id": "8e76cd64",
   "metadata": {},
   "source": [
    "COMMENT: Helps identify categorical vs. numerical columns, and detect constant or near-constant features."
   ]
  },
  {
   "cell_type": "code",
   "execution_count": 24,
   "id": "7e74ef12",
   "metadata": {},
   "outputs": [],
   "source": [
    "# 5. DROP 'customerID' COLUMN\n",
    "df_telco.drop('customerID', axis=1, inplace=True)"
   ]
  },
  {
   "cell_type": "markdown",
   "id": "5b9e2388",
   "metadata": {},
   "source": [
    "COMMENT: 'customerID' is a unique identifier and doesn't contribute to predictive power."
   ]
  },
  {
   "cell_type": "code",
   "execution_count": 25,
   "id": "6aa99dce",
   "metadata": {},
   "outputs": [],
   "source": [
    "# 6. CONVERT 'TotalCharges' TO NUMERIC\n",
    "df_telco['TotalCharges'] = pd.to_numeric(df_telco['TotalCharges'], errors='coerce')"
   ]
  },
  {
   "cell_type": "markdown",
   "id": "63693bef",
   "metadata": {},
   "source": [
    "COMMENT: Converts TotalCharges column to numeric, coercing invalid entries to NaN."
   ]
  },
  {
   "cell_type": "code",
   "execution_count": 26,
   "id": "e182a8aa",
   "metadata": {},
   "outputs": [
    {
     "name": "stdout",
     "output_type": "stream",
     "text": [
      "Missing TotalCharges values: 11\n"
     ]
    }
   ],
   "source": [
    "# 7. CHECK FOR MISSING VALUES IN 'TotalCharges'\n",
    "missing_total_charges = df_telco['TotalCharges'].isnull().sum()\n",
    "print(f\"Missing TotalCharges values: {missing_total_charges}\")"
   ]
  },
  {
   "cell_type": "markdown",
   "id": "3f2b5ca0",
   "metadata": {},
   "source": [
    "COMMENT: Identify how many entries failed conversion and now contain NaNs."
   ]
  },
  {
   "cell_type": "code",
   "execution_count": 27,
   "id": "0a3175c6",
   "metadata": {},
   "outputs": [],
   "source": [
    "# 8. DROP ROWS WHERE 'TotalCharges' IS NULL\n",
    "df_telco = df_telco[df_telco['TotalCharges'].notnull()]"
   ]
  },
  {
   "cell_type": "markdown",
   "id": "01071c02",
   "metadata": {},
   "source": [
    "COMMENT: Dropping a small number of missing rows is preferable to imputation in this case."
   ]
  },
  {
   "cell_type": "code",
   "execution_count": 28,
   "id": "237b4680",
   "metadata": {},
   "outputs": [],
   "source": [
    "# 9. CONVERT 'Churn' TO BINARY\n",
    "df_telco['Churn'] = df_telco['Churn'].map({'No': 0, 'Yes': 1})"
   ]
  },
  {
   "cell_type": "markdown",
   "id": "68f87090",
   "metadata": {},
   "source": [
    "COMMENT: Converts target variable into binary format for modeling."
   ]
  },
  {
   "cell_type": "code",
   "execution_count": 29,
   "id": "7dbcfae3",
   "metadata": {},
   "outputs": [
    {
     "name": "stdout",
     "output_type": "stream",
     "text": [
      "<class 'pandas.core.frame.DataFrame'>\n",
      "Index: 7032 entries, 0 to 7042\n",
      "Data columns (total 20 columns):\n",
      " #   Column            Non-Null Count  Dtype  \n",
      "---  ------            --------------  -----  \n",
      " 0   gender            7032 non-null   object \n",
      " 1   SeniorCitizen     7032 non-null   int64  \n",
      " 2   Partner           7032 non-null   object \n",
      " 3   Dependents        7032 non-null   object \n",
      " 4   tenure            7032 non-null   int64  \n",
      " 5   PhoneService      7032 non-null   object \n",
      " 6   MultipleLines     7032 non-null   object \n",
      " 7   InternetService   7032 non-null   object \n",
      " 8   OnlineSecurity    7032 non-null   object \n",
      " 9   OnlineBackup      7032 non-null   object \n",
      " 10  DeviceProtection  7032 non-null   object \n",
      " 11  TechSupport       7032 non-null   object \n",
      " 12  StreamingTV       7032 non-null   object \n",
      " 13  StreamingMovies   7032 non-null   object \n",
      " 14  Contract          7032 non-null   object \n",
      " 15  PaperlessBilling  7032 non-null   object \n",
      " 16  PaymentMethod     7032 non-null   object \n",
      " 17  MonthlyCharges    7032 non-null   float64\n",
      " 18  TotalCharges      7032 non-null   float64\n",
      " 19  Churn             7032 non-null   int64  \n",
      "dtypes: float64(2), int64(3), object(15)\n",
      "memory usage: 1.1+ MB\n",
      "None\n",
      "Churn\n",
      "0    5163\n",
      "1    1869\n",
      "Name: count, dtype: int64\n"
     ]
    }
   ],
   "source": [
    "# 10. CONFIRM DATA CLEANING\n",
    "print(df_telco.info())\n",
    "print(df_telco['Churn'].value_counts())"
   ]
  },
  {
   "cell_type": "code",
   "execution_count": 30,
   "id": "4d47185d",
   "metadata": {},
   "outputs": [],
   "source": [
    "# 11. SPLIT DATA BEFORE ANY FEATURE ENGINEERING\n",
    "X = df_telco.drop(\"Churn\", axis=1)\n",
    "y = df_telco[\"Churn\"]"
   ]
  },
  {
   "cell_type": "code",
   "execution_count": 31,
   "id": "6802f7d0",
   "metadata": {},
   "outputs": [],
   "source": [
    "X_train, X_test, y_train, y_test = train_test_split(\n",
    "    X, y, test_size=0.3, random_state=42, stratify=y\n",
    ")\n",
    "# COMMENT: Splitting data into training and test sets before feature engineering ensures that the model evaluation remains unbiased."
   ]
  },
  {
   "cell_type": "code",
   "execution_count": 32,
   "id": "4d3e418c",
   "metadata": {},
   "outputs": [],
   "source": [
    "# 12. ENCODING CATEGORICAL VARIABLES\n",
    "cat_cols = X_train.select_dtypes(include=['object']).columns.tolist()"
   ]
  },
  {
   "cell_type": "code",
   "execution_count": 33,
   "id": "39617dfc",
   "metadata": {},
   "outputs": [],
   "source": [
    "X_train = pd.get_dummies(X_train, columns=cat_cols, drop_first=True)\n",
    "X_test = pd.get_dummies(X_test, columns=cat_cols, drop_first=True)"
   ]
  },
  {
   "cell_type": "code",
   "execution_count": 34,
   "id": "9586ac16",
   "metadata": {},
   "outputs": [],
   "source": [
    "# Align test and train sets to have the same columns\n",
    "X_train, X_test = X_train.align(X_train, join='left', axis=1, fill_value=0)\n",
    "# Combine train and test sets for encoding consistency\n",
    "# COMMENT: One-hot encoding allows models to process categorical variables by creating binary columns."
   ]
  },
  {
   "cell_type": "code",
   "execution_count": null,
   "id": "410edcc0",
   "metadata": {},
   "outputs": [
    {
     "name": "stderr",
     "output_type": "stream",
     "text": [
      "100%|██████████| 13601/13601 [00:31<00:00, 429.80it/s]<00:00, 434.43it/s, Describe variable: TotalCharges_999.9]                  \n",
      "Summarize dataset: 100%|█████████▉| 13603/13608 [11:31<00:00, 19.66it/s, Calculate auto correlation]            \n"
     ]
    },
    {
     "ename": "KeyboardInterrupt",
     "evalue": "",
     "output_type": "error",
     "traceback": [
      "\u001b[1;31m---------------------------------------------------------------------------\u001b[0m",
      "\u001b[1;31mKeyboardInterrupt\u001b[0m                         Traceback (most recent call last)",
      "Cell \u001b[1;32mIn[35], line 5\u001b[0m\n\u001b[0;32m      3\u001b[0m profile_clean \u001b[38;5;241m=\u001b[39m ProfileReport(df_telco_encoded, title\u001b[38;5;241m=\u001b[39m\u001b[38;5;124m\"\u001b[39m\u001b[38;5;124mEDA Report - Cleaned Telco Data\u001b[39m\u001b[38;5;124m\"\u001b[39m, explorative\u001b[38;5;241m=\u001b[39m\u001b[38;5;28;01mTrue\u001b[39;00m)\n\u001b[0;32m      4\u001b[0m \u001b[38;5;66;03m# Save to CIND820 folder\u001b[39;00m\n\u001b[1;32m----> 5\u001b[0m \u001b[43mprofile_clean\u001b[49m\u001b[38;5;241;43m.\u001b[39;49m\u001b[43mto_file\u001b[49m\u001b[43m(\u001b[49m\u001b[38;5;124;43m\"\u001b[39;49m\u001b[38;5;124;43mC:/Users/emine/OneDrive/Masaüstü/CIND820/eda_telco_cleaned.html\u001b[39;49m\u001b[38;5;124;43m\"\u001b[39;49m\u001b[43m)\u001b[49m\n",
      "File \u001b[1;32mc:\\Users\\emine\\AppData\\Local\\Programs\\Python\\Python312\\Lib\\site-packages\\ydata_profiling\\profile_report.py:381\u001b[0m, in \u001b[0;36mProfileReport.to_file\u001b[1;34m(self, output_file, silent)\u001b[0m\n\u001b[0;32m    378\u001b[0m         \u001b[38;5;28mself\u001b[39m\u001b[38;5;241m.\u001b[39mconfig\u001b[38;5;241m.\u001b[39mhtml\u001b[38;5;241m.\u001b[39massets_prefix \u001b[38;5;241m=\u001b[39m \u001b[38;5;28mstr\u001b[39m(output_file\u001b[38;5;241m.\u001b[39mstem) \u001b[38;5;241m+\u001b[39m \u001b[38;5;124m\"\u001b[39m\u001b[38;5;124m_assets\u001b[39m\u001b[38;5;124m\"\u001b[39m\n\u001b[0;32m    379\u001b[0m     create_html_assets(\u001b[38;5;28mself\u001b[39m\u001b[38;5;241m.\u001b[39mconfig, output_file)\n\u001b[1;32m--> 381\u001b[0m data \u001b[38;5;241m=\u001b[39m \u001b[38;5;28;43mself\u001b[39;49m\u001b[38;5;241;43m.\u001b[39;49m\u001b[43mto_html\u001b[49m\u001b[43m(\u001b[49m\u001b[43m)\u001b[49m\n\u001b[0;32m    383\u001b[0m \u001b[38;5;28;01mif\u001b[39;00m output_file\u001b[38;5;241m.\u001b[39msuffix \u001b[38;5;241m!=\u001b[39m \u001b[38;5;124m\"\u001b[39m\u001b[38;5;124m.html\u001b[39m\u001b[38;5;124m\"\u001b[39m:\n\u001b[0;32m    384\u001b[0m     suffix \u001b[38;5;241m=\u001b[39m output_file\u001b[38;5;241m.\u001b[39msuffix\n",
      "File \u001b[1;32mc:\\Users\\emine\\AppData\\Local\\Programs\\Python\\Python312\\Lib\\site-packages\\ydata_profiling\\profile_report.py:498\u001b[0m, in \u001b[0;36mProfileReport.to_html\u001b[1;34m(self)\u001b[0m\n\u001b[0;32m    490\u001b[0m \u001b[38;5;28;01mdef\u001b[39;00m \u001b[38;5;21mto_html\u001b[39m(\u001b[38;5;28mself\u001b[39m) \u001b[38;5;241m-\u001b[39m\u001b[38;5;241m>\u001b[39m \u001b[38;5;28mstr\u001b[39m:\n\u001b[0;32m    491\u001b[0m \u001b[38;5;250m    \u001b[39m\u001b[38;5;124;03m\"\"\"Generate and return complete template as lengthy string\u001b[39;00m\n\u001b[0;32m    492\u001b[0m \u001b[38;5;124;03m        for using with frameworks.\u001b[39;00m\n\u001b[0;32m    493\u001b[0m \n\u001b[1;32m   (...)\u001b[0m\n\u001b[0;32m    496\u001b[0m \n\u001b[0;32m    497\u001b[0m \u001b[38;5;124;03m    \"\"\"\u001b[39;00m\n\u001b[1;32m--> 498\u001b[0m     \u001b[38;5;28;01mreturn\u001b[39;00m \u001b[38;5;28;43mself\u001b[39;49m\u001b[38;5;241;43m.\u001b[39;49m\u001b[43mhtml\u001b[49m\n",
      "File \u001b[1;32mc:\\Users\\emine\\AppData\\Local\\Programs\\Python\\Python312\\Lib\\site-packages\\ydata_profiling\\profile_report.py:294\u001b[0m, in \u001b[0;36mProfileReport.html\u001b[1;34m(self)\u001b[0m\n\u001b[0;32m    291\u001b[0m \u001b[38;5;129m@property\u001b[39m\n\u001b[0;32m    292\u001b[0m \u001b[38;5;28;01mdef\u001b[39;00m \u001b[38;5;21mhtml\u001b[39m(\u001b[38;5;28mself\u001b[39m) \u001b[38;5;241m-\u001b[39m\u001b[38;5;241m>\u001b[39m \u001b[38;5;28mstr\u001b[39m:\n\u001b[0;32m    293\u001b[0m     \u001b[38;5;28;01mif\u001b[39;00m \u001b[38;5;28mself\u001b[39m\u001b[38;5;241m.\u001b[39m_html \u001b[38;5;129;01mis\u001b[39;00m \u001b[38;5;28;01mNone\u001b[39;00m:\n\u001b[1;32m--> 294\u001b[0m         \u001b[38;5;28mself\u001b[39m\u001b[38;5;241m.\u001b[39m_html \u001b[38;5;241m=\u001b[39m \u001b[38;5;28;43mself\u001b[39;49m\u001b[38;5;241;43m.\u001b[39;49m\u001b[43m_render_html\u001b[49m\u001b[43m(\u001b[49m\u001b[43m)\u001b[49m\n\u001b[0;32m    295\u001b[0m     \u001b[38;5;28;01mreturn\u001b[39;00m \u001b[38;5;28mself\u001b[39m\u001b[38;5;241m.\u001b[39m_html\n",
      "File \u001b[1;32mc:\\Users\\emine\\AppData\\Local\\Programs\\Python\\Python312\\Lib\\site-packages\\ydata_profiling\\profile_report.py:411\u001b[0m, in \u001b[0;36mProfileReport._render_html\u001b[1;34m(self)\u001b[0m\n\u001b[0;32m    408\u001b[0m \u001b[38;5;28;01mdef\u001b[39;00m \u001b[38;5;21m_render_html\u001b[39m(\u001b[38;5;28mself\u001b[39m) \u001b[38;5;241m-\u001b[39m\u001b[38;5;241m>\u001b[39m \u001b[38;5;28mstr\u001b[39m:\n\u001b[0;32m    409\u001b[0m     \u001b[38;5;28;01mfrom\u001b[39;00m \u001b[38;5;21;01mydata_profiling\u001b[39;00m\u001b[38;5;21;01m.\u001b[39;00m\u001b[38;5;21;01mreport\u001b[39;00m\u001b[38;5;21;01m.\u001b[39;00m\u001b[38;5;21;01mpresentation\u001b[39;00m\u001b[38;5;21;01m.\u001b[39;00m\u001b[38;5;21;01mflavours\u001b[39;00m \u001b[38;5;28;01mimport\u001b[39;00m HTMLReport\n\u001b[1;32m--> 411\u001b[0m     report \u001b[38;5;241m=\u001b[39m \u001b[38;5;28;43mself\u001b[39;49m\u001b[38;5;241;43m.\u001b[39;49m\u001b[43mreport\u001b[49m\n\u001b[0;32m    413\u001b[0m     \u001b[38;5;28;01mwith\u001b[39;00m tqdm(\n\u001b[0;32m    414\u001b[0m         total\u001b[38;5;241m=\u001b[39m\u001b[38;5;241m1\u001b[39m, desc\u001b[38;5;241m=\u001b[39m\u001b[38;5;124m\"\u001b[39m\u001b[38;5;124mRender HTML\u001b[39m\u001b[38;5;124m\"\u001b[39m, disable\u001b[38;5;241m=\u001b[39m\u001b[38;5;129;01mnot\u001b[39;00m \u001b[38;5;28mself\u001b[39m\u001b[38;5;241m.\u001b[39mconfig\u001b[38;5;241m.\u001b[39mprogress_bar\n\u001b[0;32m    415\u001b[0m     ) \u001b[38;5;28;01mas\u001b[39;00m pbar:\n\u001b[0;32m    416\u001b[0m         html \u001b[38;5;241m=\u001b[39m HTMLReport(copy\u001b[38;5;241m.\u001b[39mdeepcopy(report))\u001b[38;5;241m.\u001b[39mrender(\n\u001b[0;32m    417\u001b[0m             nav\u001b[38;5;241m=\u001b[39m\u001b[38;5;28mself\u001b[39m\u001b[38;5;241m.\u001b[39mconfig\u001b[38;5;241m.\u001b[39mhtml\u001b[38;5;241m.\u001b[39mnavbar_show,\n\u001b[0;32m    418\u001b[0m             offline\u001b[38;5;241m=\u001b[39m\u001b[38;5;28mself\u001b[39m\u001b[38;5;241m.\u001b[39mconfig\u001b[38;5;241m.\u001b[39mhtml\u001b[38;5;241m.\u001b[39muse_local_assets,\n\u001b[1;32m   (...)\u001b[0m\n\u001b[0;32m    426\u001b[0m             version\u001b[38;5;241m=\u001b[39m\u001b[38;5;28mself\u001b[39m\u001b[38;5;241m.\u001b[39mdescription_set\u001b[38;5;241m.\u001b[39mpackage[\u001b[38;5;124m\"\u001b[39m\u001b[38;5;124mydata_profiling_version\u001b[39m\u001b[38;5;124m\"\u001b[39m],\n\u001b[0;32m    427\u001b[0m         )\n",
      "File \u001b[1;32mc:\\Users\\emine\\AppData\\Local\\Programs\\Python\\Python312\\Lib\\site-packages\\ydata_profiling\\profile_report.py:288\u001b[0m, in \u001b[0;36mProfileReport.report\u001b[1;34m(self)\u001b[0m\n\u001b[0;32m    285\u001b[0m \u001b[38;5;129m@property\u001b[39m\n\u001b[0;32m    286\u001b[0m \u001b[38;5;28;01mdef\u001b[39;00m \u001b[38;5;21mreport\u001b[39m(\u001b[38;5;28mself\u001b[39m) \u001b[38;5;241m-\u001b[39m\u001b[38;5;241m>\u001b[39m Root:\n\u001b[0;32m    287\u001b[0m     \u001b[38;5;28;01mif\u001b[39;00m \u001b[38;5;28mself\u001b[39m\u001b[38;5;241m.\u001b[39m_report \u001b[38;5;129;01mis\u001b[39;00m \u001b[38;5;28;01mNone\u001b[39;00m:\n\u001b[1;32m--> 288\u001b[0m         \u001b[38;5;28mself\u001b[39m\u001b[38;5;241m.\u001b[39m_report \u001b[38;5;241m=\u001b[39m get_report_structure(\u001b[38;5;28mself\u001b[39m\u001b[38;5;241m.\u001b[39mconfig, \u001b[38;5;28;43mself\u001b[39;49m\u001b[38;5;241;43m.\u001b[39;49m\u001b[43mdescription_set\u001b[49m)\n\u001b[0;32m    289\u001b[0m     \u001b[38;5;28;01mreturn\u001b[39;00m \u001b[38;5;28mself\u001b[39m\u001b[38;5;241m.\u001b[39m_report\n",
      "File \u001b[1;32mc:\\Users\\emine\\AppData\\Local\\Programs\\Python\\Python312\\Lib\\site-packages\\ydata_profiling\\profile_report.py:270\u001b[0m, in \u001b[0;36mProfileReport.description_set\u001b[1;34m(self)\u001b[0m\n\u001b[0;32m    267\u001b[0m \u001b[38;5;129m@property\u001b[39m\n\u001b[0;32m    268\u001b[0m \u001b[38;5;28;01mdef\u001b[39;00m \u001b[38;5;21mdescription_set\u001b[39m(\u001b[38;5;28mself\u001b[39m) \u001b[38;5;241m-\u001b[39m\u001b[38;5;241m>\u001b[39m BaseDescription:\n\u001b[0;32m    269\u001b[0m     \u001b[38;5;28;01mif\u001b[39;00m \u001b[38;5;28mself\u001b[39m\u001b[38;5;241m.\u001b[39m_description_set \u001b[38;5;129;01mis\u001b[39;00m \u001b[38;5;28;01mNone\u001b[39;00m:\n\u001b[1;32m--> 270\u001b[0m         \u001b[38;5;28mself\u001b[39m\u001b[38;5;241m.\u001b[39m_description_set \u001b[38;5;241m=\u001b[39m \u001b[43mdescribe_df\u001b[49m\u001b[43m(\u001b[49m\n\u001b[0;32m    271\u001b[0m \u001b[43m            \u001b[49m\u001b[38;5;28;43mself\u001b[39;49m\u001b[38;5;241;43m.\u001b[39;49m\u001b[43mconfig\u001b[49m\u001b[43m,\u001b[49m\n\u001b[0;32m    272\u001b[0m \u001b[43m            \u001b[49m\u001b[38;5;28;43mself\u001b[39;49m\u001b[38;5;241;43m.\u001b[39;49m\u001b[43mdf\u001b[49m\u001b[43m,\u001b[49m\n\u001b[0;32m    273\u001b[0m \u001b[43m            \u001b[49m\u001b[38;5;28;43mself\u001b[39;49m\u001b[38;5;241;43m.\u001b[39;49m\u001b[43msummarizer\u001b[49m\u001b[43m,\u001b[49m\n\u001b[0;32m    274\u001b[0m \u001b[43m            \u001b[49m\u001b[38;5;28;43mself\u001b[39;49m\u001b[38;5;241;43m.\u001b[39;49m\u001b[43mtypeset\u001b[49m\u001b[43m,\u001b[49m\n\u001b[0;32m    275\u001b[0m \u001b[43m            \u001b[49m\u001b[38;5;28;43mself\u001b[39;49m\u001b[38;5;241;43m.\u001b[39;49m\u001b[43m_sample\u001b[49m\u001b[43m,\u001b[49m\n\u001b[0;32m    276\u001b[0m \u001b[43m        \u001b[49m\u001b[43m)\u001b[49m\n\u001b[0;32m    277\u001b[0m     \u001b[38;5;28;01mreturn\u001b[39;00m \u001b[38;5;28mself\u001b[39m\u001b[38;5;241m.\u001b[39m_description_set\n",
      "File \u001b[1;32mc:\\Users\\emine\\AppData\\Local\\Programs\\Python\\Python312\\Lib\\site-packages\\ydata_profiling\\model\\describe.py:122\u001b[0m, in \u001b[0;36mdescribe\u001b[1;34m(config, df, summarizer, typeset, sample)\u001b[0m\n\u001b[0;32m    118\u001b[0m correlation_names \u001b[38;5;241m=\u001b[39m get_active_correlations(config)\n\u001b[0;32m    119\u001b[0m pbar\u001b[38;5;241m.\u001b[39mtotal \u001b[38;5;241m+\u001b[39m\u001b[38;5;241m=\u001b[39m \u001b[38;5;28mlen\u001b[39m(correlation_names)\n\u001b[0;32m    121\u001b[0m correlations \u001b[38;5;241m=\u001b[39m {\n\u001b[1;32m--> 122\u001b[0m     correlation_name: \u001b[43mprogress\u001b[49m\u001b[43m(\u001b[49m\n\u001b[0;32m    123\u001b[0m \u001b[43m        \u001b[49m\u001b[43mcalculate_correlation\u001b[49m\u001b[43m,\u001b[49m\n\u001b[0;32m    124\u001b[0m \u001b[43m        \u001b[49m\u001b[43mpbar\u001b[49m\u001b[43m,\u001b[49m\n\u001b[0;32m    125\u001b[0m \u001b[43m        \u001b[49m\u001b[38;5;124;43mf\u001b[39;49m\u001b[38;5;124;43m\"\u001b[39;49m\u001b[38;5;124;43mCalculate \u001b[39;49m\u001b[38;5;132;43;01m{\u001b[39;49;00m\u001b[43mcorrelation_name\u001b[49m\u001b[38;5;132;43;01m}\u001b[39;49;00m\u001b[38;5;124;43m correlation\u001b[39;49m\u001b[38;5;124;43m\"\u001b[39;49m\u001b[43m,\u001b[49m\n\u001b[0;32m    126\u001b[0m \u001b[43m    \u001b[49m\u001b[43m)\u001b[49m\u001b[43m(\u001b[49m\u001b[43mconfig\u001b[49m\u001b[43m,\u001b[49m\u001b[43m \u001b[49m\u001b[43mdf\u001b[49m\u001b[43m,\u001b[49m\u001b[43m \u001b[49m\u001b[43mcorrelation_name\u001b[49m\u001b[43m,\u001b[49m\u001b[43m \u001b[49m\u001b[43mseries_description\u001b[49m\u001b[43m)\u001b[49m\n\u001b[0;32m    127\u001b[0m     \u001b[38;5;28;01mfor\u001b[39;00m correlation_name \u001b[38;5;129;01min\u001b[39;00m correlation_names\n\u001b[0;32m    128\u001b[0m }\n\u001b[0;32m    130\u001b[0m \u001b[38;5;66;03m# make sure correlations is not None\u001b[39;00m\n\u001b[0;32m    131\u001b[0m correlations \u001b[38;5;241m=\u001b[39m {\n\u001b[0;32m    132\u001b[0m     key: value \u001b[38;5;28;01mfor\u001b[39;00m key, value \u001b[38;5;129;01min\u001b[39;00m correlations\u001b[38;5;241m.\u001b[39mitems() \u001b[38;5;28;01mif\u001b[39;00m value \u001b[38;5;129;01mis\u001b[39;00m \u001b[38;5;129;01mnot\u001b[39;00m \u001b[38;5;28;01mNone\u001b[39;00m\n\u001b[0;32m    133\u001b[0m }\n",
      "File \u001b[1;32mc:\\Users\\emine\\AppData\\Local\\Programs\\Python\\Python312\\Lib\\site-packages\\ydata_profiling\\utils\\progress_bar.py:11\u001b[0m, in \u001b[0;36mprogress.<locals>.inner\u001b[1;34m(*args, **kwargs)\u001b[0m\n\u001b[0;32m      8\u001b[0m \u001b[38;5;129m@wraps\u001b[39m(fn)\n\u001b[0;32m      9\u001b[0m \u001b[38;5;28;01mdef\u001b[39;00m \u001b[38;5;21minner\u001b[39m(\u001b[38;5;241m*\u001b[39margs, \u001b[38;5;241m*\u001b[39m\u001b[38;5;241m*\u001b[39mkwargs) \u001b[38;5;241m-\u001b[39m\u001b[38;5;241m>\u001b[39m Any:\n\u001b[0;32m     10\u001b[0m     bar\u001b[38;5;241m.\u001b[39mset_postfix_str(message)\n\u001b[1;32m---> 11\u001b[0m     ret \u001b[38;5;241m=\u001b[39m \u001b[43mfn\u001b[49m\u001b[43m(\u001b[49m\u001b[38;5;241;43m*\u001b[39;49m\u001b[43margs\u001b[49m\u001b[43m,\u001b[49m\u001b[43m \u001b[49m\u001b[38;5;241;43m*\u001b[39;49m\u001b[38;5;241;43m*\u001b[39;49m\u001b[43mkwargs\u001b[49m\u001b[43m)\u001b[49m\n\u001b[0;32m     12\u001b[0m     bar\u001b[38;5;241m.\u001b[39mupdate()\n\u001b[0;32m     13\u001b[0m     \u001b[38;5;28;01mreturn\u001b[39;00m ret\n",
      "File \u001b[1;32mc:\\Users\\emine\\AppData\\Local\\Programs\\Python\\Python312\\Lib\\site-packages\\ydata_profiling\\model\\correlations.py:125\u001b[0m, in \u001b[0;36mcalculate_correlation\u001b[1;34m(config, df, correlation_name, summary)\u001b[0m\n\u001b[0;32m    123\u001b[0m correlation \u001b[38;5;241m=\u001b[39m \u001b[38;5;28;01mNone\u001b[39;00m\n\u001b[0;32m    124\u001b[0m \u001b[38;5;28;01mtry\u001b[39;00m:\n\u001b[1;32m--> 125\u001b[0m     correlation \u001b[38;5;241m=\u001b[39m \u001b[43mcorrelation_measures\u001b[49m\u001b[43m[\u001b[49m\u001b[43mcorrelation_name\u001b[49m\u001b[43m]\u001b[49m\u001b[43m(\u001b[49m\u001b[43m)\u001b[49m\u001b[38;5;241;43m.\u001b[39;49m\u001b[43mcompute\u001b[49m\u001b[43m(\u001b[49m\n\u001b[0;32m    126\u001b[0m \u001b[43m        \u001b[49m\u001b[43mconfig\u001b[49m\u001b[43m,\u001b[49m\u001b[43m \u001b[49m\u001b[43mdf\u001b[49m\u001b[43m,\u001b[49m\u001b[43m \u001b[49m\u001b[43msummary\u001b[49m\u001b[43m,\u001b[49m\u001b[43m \u001b[49m\u001b[43mbackend\u001b[49m\n\u001b[0;32m    127\u001b[0m \u001b[43m    \u001b[49m\u001b[43m)\u001b[49m\n\u001b[0;32m    128\u001b[0m \u001b[38;5;28;01mexcept\u001b[39;00m (\u001b[38;5;167;01mValueError\u001b[39;00m, \u001b[38;5;167;01mAssertionError\u001b[39;00m, \u001b[38;5;167;01mTypeError\u001b[39;00m, DataError, \u001b[38;5;167;01mIndexError\u001b[39;00m) \u001b[38;5;28;01mas\u001b[39;00m e:\n\u001b[0;32m    129\u001b[0m     warn_correlation(correlation_name, \u001b[38;5;28mstr\u001b[39m(e))\n",
      "File \u001b[1;32mc:\\Users\\emine\\AppData\\Local\\Programs\\Python\\Python312\\Lib\\site-packages\\ydata_profiling\\model\\correlations.py:57\u001b[0m, in \u001b[0;36mCorrelation.compute\u001b[1;34m(self, config, df, summary, backend)\u001b[0m\n\u001b[0;32m     55\u001b[0m     \u001b[38;5;28;01mraise\u001b[39;00m \u001b[38;5;167;01mNotImplementedError\u001b[39;00m() \u001b[38;5;28;01mfrom\u001b[39;00m \u001b[38;5;21;01mex\u001b[39;00m\n\u001b[0;32m     56\u001b[0m \u001b[38;5;28;01melse\u001b[39;00m:\n\u001b[1;32m---> 57\u001b[0m     \u001b[38;5;28;01mreturn\u001b[39;00m \u001b[43mmethod\u001b[49m\u001b[43m(\u001b[49m\u001b[43mconfig\u001b[49m\u001b[43m,\u001b[49m\u001b[43m \u001b[49m\u001b[43mdf\u001b[49m\u001b[43m,\u001b[49m\u001b[43m \u001b[49m\u001b[43msummary\u001b[49m\u001b[43m)\u001b[49m\n",
      "File \u001b[1;32mc:\\Users\\emine\\AppData\\Local\\Programs\\Python\\Python312\\Lib\\site-packages\\ydata_profiling\\model\\pandas\\correlations_pandas.py:199\u001b[0m, in \u001b[0;36mauto_compute\u001b[1;34m(config, df, summary)\u001b[0m\n\u001b[0;32m    192\u001b[0m     \u001b[38;5;28;01mdef\u001b[39;00m \u001b[38;5;21mf\u001b[39m(col_name: \u001b[38;5;28mstr\u001b[39m, method: Callable) \u001b[38;5;241m-\u001b[39m\u001b[38;5;241m>\u001b[39m pd\u001b[38;5;241m.\u001b[39mSeries:\n\u001b[0;32m    193\u001b[0m         \u001b[38;5;28;01mreturn\u001b[39;00m (\n\u001b[0;32m    194\u001b[0m             df_discretized\n\u001b[0;32m    195\u001b[0m             \u001b[38;5;28;01mif\u001b[39;00m col_name \u001b[38;5;129;01min\u001b[39;00m numerical_columns \u001b[38;5;129;01mand\u001b[39;00m method \u001b[38;5;129;01mis\u001b[39;00m _pairwise_cramers\n\u001b[0;32m    196\u001b[0m             \u001b[38;5;28;01melse\u001b[39;00m df\n\u001b[0;32m    197\u001b[0m         )\n\u001b[1;32m--> 199\u001b[0m     score \u001b[38;5;241m=\u001b[39m \u001b[43mmethod\u001b[49m\u001b[43m(\u001b[49m\n\u001b[0;32m    200\u001b[0m \u001b[43m        \u001b[49m\u001b[43mf\u001b[49m\u001b[43m(\u001b[49m\u001b[43mcol_1_name\u001b[49m\u001b[43m,\u001b[49m\u001b[43m \u001b[49m\u001b[43mmethod\u001b[49m\u001b[43m)\u001b[49m\u001b[43m[\u001b[49m\u001b[43mcol_1_name\u001b[49m\u001b[43m]\u001b[49m\u001b[43m,\u001b[49m\u001b[43m \u001b[49m\u001b[43mf\u001b[49m\u001b[43m(\u001b[49m\u001b[43mcol_2_name\u001b[49m\u001b[43m,\u001b[49m\u001b[43m \u001b[49m\u001b[43mmethod\u001b[49m\u001b[43m)\u001b[49m\u001b[43m[\u001b[49m\u001b[43mcol_2_name\u001b[49m\u001b[43m]\u001b[49m\n\u001b[0;32m    201\u001b[0m \u001b[43m    \u001b[49m\u001b[43m)\u001b[49m\n\u001b[0;32m    202\u001b[0m     (\n\u001b[0;32m    203\u001b[0m         correlation_matrix\u001b[38;5;241m.\u001b[39mloc[col_1_name, col_2_name],\n\u001b[0;32m    204\u001b[0m         correlation_matrix\u001b[38;5;241m.\u001b[39mloc[col_2_name, col_1_name],\n\u001b[0;32m    205\u001b[0m     ) \u001b[38;5;241m=\u001b[39m (score, score)\n\u001b[0;32m    207\u001b[0m \u001b[38;5;28;01mreturn\u001b[39;00m correlation_matrix\n",
      "File \u001b[1;32mc:\\Users\\emine\\AppData\\Local\\Programs\\Python\\Python312\\Lib\\site-packages\\ydata_profiling\\model\\pandas\\correlations_pandas.py:76\u001b[0m, in \u001b[0;36m_pairwise_cramers\u001b[1;34m(col_1, col_2)\u001b[0m\n\u001b[0;32m     75\u001b[0m \u001b[38;5;28;01mdef\u001b[39;00m \u001b[38;5;21m_pairwise_cramers\u001b[39m(col_1: pd\u001b[38;5;241m.\u001b[39mSeries, col_2: pd\u001b[38;5;241m.\u001b[39mSeries) \u001b[38;5;241m-\u001b[39m\u001b[38;5;241m>\u001b[39m \u001b[38;5;28mfloat\u001b[39m:\n\u001b[1;32m---> 76\u001b[0m     \u001b[38;5;28;01mreturn\u001b[39;00m _cramers_corrected_stat(\u001b[43mpd\u001b[49m\u001b[38;5;241;43m.\u001b[39;49m\u001b[43mcrosstab\u001b[49m\u001b[43m(\u001b[49m\u001b[43mcol_1\u001b[49m\u001b[43m,\u001b[49m\u001b[43m \u001b[49m\u001b[43mcol_2\u001b[49m\u001b[43m)\u001b[49m, correction\u001b[38;5;241m=\u001b[39m\u001b[38;5;28;01mTrue\u001b[39;00m)\n",
      "File \u001b[1;32mc:\\Users\\emine\\AppData\\Local\\Programs\\Python\\Python312\\Lib\\site-packages\\pandas\\core\\reshape\\pivot.py:728\u001b[0m, in \u001b[0;36mcrosstab\u001b[1;34m(index, columns, values, rownames, colnames, aggfunc, margins, margins_name, dropna, normalize)\u001b[0m\n\u001b[0;32m    724\u001b[0m     kwargs \u001b[38;5;241m=\u001b[39m {\u001b[38;5;124m\"\u001b[39m\u001b[38;5;124maggfunc\u001b[39m\u001b[38;5;124m\"\u001b[39m: aggfunc}\n\u001b[0;32m    726\u001b[0m \u001b[38;5;66;03m# error: Argument 7 to \"pivot_table\" of \"DataFrame\" has incompatible type\u001b[39;00m\n\u001b[0;32m    727\u001b[0m \u001b[38;5;66;03m# \"**Dict[str, object]\"; expected \"Union[...]\"\u001b[39;00m\n\u001b[1;32m--> 728\u001b[0m table \u001b[38;5;241m=\u001b[39m \u001b[43mdf\u001b[49m\u001b[38;5;241;43m.\u001b[39;49m\u001b[43mpivot_table\u001b[49m\u001b[43m(\u001b[49m\n\u001b[0;32m    729\u001b[0m \u001b[43m    \u001b[49m\u001b[38;5;124;43m\"\u001b[39;49m\u001b[38;5;124;43m__dummy__\u001b[39;49m\u001b[38;5;124;43m\"\u001b[39;49m\u001b[43m,\u001b[49m\n\u001b[0;32m    730\u001b[0m \u001b[43m    \u001b[49m\u001b[43mindex\u001b[49m\u001b[38;5;241;43m=\u001b[39;49m\u001b[43munique_rownames\u001b[49m\u001b[43m,\u001b[49m\n\u001b[0;32m    731\u001b[0m \u001b[43m    \u001b[49m\u001b[43mcolumns\u001b[49m\u001b[38;5;241;43m=\u001b[39;49m\u001b[43munique_colnames\u001b[49m\u001b[43m,\u001b[49m\n\u001b[0;32m    732\u001b[0m \u001b[43m    \u001b[49m\u001b[43mmargins\u001b[49m\u001b[38;5;241;43m=\u001b[39;49m\u001b[43mmargins\u001b[49m\u001b[43m,\u001b[49m\n\u001b[0;32m    733\u001b[0m \u001b[43m    \u001b[49m\u001b[43mmargins_name\u001b[49m\u001b[38;5;241;43m=\u001b[39;49m\u001b[43mmargins_name\u001b[49m\u001b[43m,\u001b[49m\n\u001b[0;32m    734\u001b[0m \u001b[43m    \u001b[49m\u001b[43mdropna\u001b[49m\u001b[38;5;241;43m=\u001b[39;49m\u001b[43mdropna\u001b[49m\u001b[43m,\u001b[49m\n\u001b[0;32m    735\u001b[0m \u001b[43m    \u001b[49m\u001b[43mobserved\u001b[49m\u001b[38;5;241;43m=\u001b[39;49m\u001b[38;5;28;43;01mFalse\u001b[39;49;00m\u001b[43m,\u001b[49m\n\u001b[0;32m    736\u001b[0m \u001b[43m    \u001b[49m\u001b[38;5;241;43m*\u001b[39;49m\u001b[38;5;241;43m*\u001b[39;49m\u001b[43mkwargs\u001b[49m\u001b[43m,\u001b[49m\u001b[43m  \u001b[49m\u001b[38;5;66;43;03m# type: ignore[arg-type]\u001b[39;49;00m\n\u001b[0;32m    737\u001b[0m \u001b[43m\u001b[49m\u001b[43m)\u001b[49m\n\u001b[0;32m    739\u001b[0m \u001b[38;5;66;03m# Post-process\u001b[39;00m\n\u001b[0;32m    740\u001b[0m \u001b[38;5;28;01mif\u001b[39;00m normalize \u001b[38;5;129;01mis\u001b[39;00m \u001b[38;5;129;01mnot\u001b[39;00m \u001b[38;5;28;01mFalse\u001b[39;00m:\n",
      "File \u001b[1;32mc:\\Users\\emine\\AppData\\Local\\Programs\\Python\\Python312\\Lib\\site-packages\\pandas\\core\\frame.py:9509\u001b[0m, in \u001b[0;36mDataFrame.pivot_table\u001b[1;34m(self, values, index, columns, aggfunc, fill_value, margins, dropna, margins_name, observed, sort)\u001b[0m\n\u001b[0;32m   9492\u001b[0m \u001b[38;5;129m@Substitution\u001b[39m(\u001b[38;5;124m\"\u001b[39m\u001b[38;5;124m\"\u001b[39m)\n\u001b[0;32m   9493\u001b[0m \u001b[38;5;129m@Appender\u001b[39m(_shared_docs[\u001b[38;5;124m\"\u001b[39m\u001b[38;5;124mpivot_table\u001b[39m\u001b[38;5;124m\"\u001b[39m])\n\u001b[0;32m   9494\u001b[0m \u001b[38;5;28;01mdef\u001b[39;00m \u001b[38;5;21mpivot_table\u001b[39m(\n\u001b[1;32m   (...)\u001b[0m\n\u001b[0;32m   9505\u001b[0m     sort: \u001b[38;5;28mbool\u001b[39m \u001b[38;5;241m=\u001b[39m \u001b[38;5;28;01mTrue\u001b[39;00m,\n\u001b[0;32m   9506\u001b[0m ) \u001b[38;5;241m-\u001b[39m\u001b[38;5;241m>\u001b[39m DataFrame:\n\u001b[0;32m   9507\u001b[0m     \u001b[38;5;28;01mfrom\u001b[39;00m \u001b[38;5;21;01mpandas\u001b[39;00m\u001b[38;5;21;01m.\u001b[39;00m\u001b[38;5;21;01mcore\u001b[39;00m\u001b[38;5;21;01m.\u001b[39;00m\u001b[38;5;21;01mreshape\u001b[39;00m\u001b[38;5;21;01m.\u001b[39;00m\u001b[38;5;21;01mpivot\u001b[39;00m \u001b[38;5;28;01mimport\u001b[39;00m pivot_table\n\u001b[1;32m-> 9509\u001b[0m     \u001b[38;5;28;01mreturn\u001b[39;00m \u001b[43mpivot_table\u001b[49m\u001b[43m(\u001b[49m\n\u001b[0;32m   9510\u001b[0m \u001b[43m        \u001b[49m\u001b[38;5;28;43mself\u001b[39;49m\u001b[43m,\u001b[49m\n\u001b[0;32m   9511\u001b[0m \u001b[43m        \u001b[49m\u001b[43mvalues\u001b[49m\u001b[38;5;241;43m=\u001b[39;49m\u001b[43mvalues\u001b[49m\u001b[43m,\u001b[49m\n\u001b[0;32m   9512\u001b[0m \u001b[43m        \u001b[49m\u001b[43mindex\u001b[49m\u001b[38;5;241;43m=\u001b[39;49m\u001b[43mindex\u001b[49m\u001b[43m,\u001b[49m\n\u001b[0;32m   9513\u001b[0m \u001b[43m        \u001b[49m\u001b[43mcolumns\u001b[49m\u001b[38;5;241;43m=\u001b[39;49m\u001b[43mcolumns\u001b[49m\u001b[43m,\u001b[49m\n\u001b[0;32m   9514\u001b[0m \u001b[43m        \u001b[49m\u001b[43maggfunc\u001b[49m\u001b[38;5;241;43m=\u001b[39;49m\u001b[43maggfunc\u001b[49m\u001b[43m,\u001b[49m\n\u001b[0;32m   9515\u001b[0m \u001b[43m        \u001b[49m\u001b[43mfill_value\u001b[49m\u001b[38;5;241;43m=\u001b[39;49m\u001b[43mfill_value\u001b[49m\u001b[43m,\u001b[49m\n\u001b[0;32m   9516\u001b[0m \u001b[43m        \u001b[49m\u001b[43mmargins\u001b[49m\u001b[38;5;241;43m=\u001b[39;49m\u001b[43mmargins\u001b[49m\u001b[43m,\u001b[49m\n\u001b[0;32m   9517\u001b[0m \u001b[43m        \u001b[49m\u001b[43mdropna\u001b[49m\u001b[38;5;241;43m=\u001b[39;49m\u001b[43mdropna\u001b[49m\u001b[43m,\u001b[49m\n\u001b[0;32m   9518\u001b[0m \u001b[43m        \u001b[49m\u001b[43mmargins_name\u001b[49m\u001b[38;5;241;43m=\u001b[39;49m\u001b[43mmargins_name\u001b[49m\u001b[43m,\u001b[49m\n\u001b[0;32m   9519\u001b[0m \u001b[43m        \u001b[49m\u001b[43mobserved\u001b[49m\u001b[38;5;241;43m=\u001b[39;49m\u001b[43mobserved\u001b[49m\u001b[43m,\u001b[49m\n\u001b[0;32m   9520\u001b[0m \u001b[43m        \u001b[49m\u001b[43msort\u001b[49m\u001b[38;5;241;43m=\u001b[39;49m\u001b[43msort\u001b[49m\u001b[43m,\u001b[49m\n\u001b[0;32m   9521\u001b[0m \u001b[43m    \u001b[49m\u001b[43m)\u001b[49m\n",
      "File \u001b[1;32mc:\\Users\\emine\\AppData\\Local\\Programs\\Python\\Python312\\Lib\\site-packages\\pandas\\core\\reshape\\pivot.py:102\u001b[0m, in \u001b[0;36mpivot_table\u001b[1;34m(data, values, index, columns, aggfunc, fill_value, margins, dropna, margins_name, observed, sort)\u001b[0m\n\u001b[0;32m     99\u001b[0m     table \u001b[38;5;241m=\u001b[39m concat(pieces, keys\u001b[38;5;241m=\u001b[39mkeys, axis\u001b[38;5;241m=\u001b[39m\u001b[38;5;241m1\u001b[39m)\n\u001b[0;32m    100\u001b[0m     \u001b[38;5;28;01mreturn\u001b[39;00m table\u001b[38;5;241m.\u001b[39m__finalize__(data, method\u001b[38;5;241m=\u001b[39m\u001b[38;5;124m\"\u001b[39m\u001b[38;5;124mpivot_table\u001b[39m\u001b[38;5;124m\"\u001b[39m)\n\u001b[1;32m--> 102\u001b[0m table \u001b[38;5;241m=\u001b[39m \u001b[43m__internal_pivot_table\u001b[49m\u001b[43m(\u001b[49m\n\u001b[0;32m    103\u001b[0m \u001b[43m    \u001b[49m\u001b[43mdata\u001b[49m\u001b[43m,\u001b[49m\n\u001b[0;32m    104\u001b[0m \u001b[43m    \u001b[49m\u001b[43mvalues\u001b[49m\u001b[43m,\u001b[49m\n\u001b[0;32m    105\u001b[0m \u001b[43m    \u001b[49m\u001b[43mindex\u001b[49m\u001b[43m,\u001b[49m\n\u001b[0;32m    106\u001b[0m \u001b[43m    \u001b[49m\u001b[43mcolumns\u001b[49m\u001b[43m,\u001b[49m\n\u001b[0;32m    107\u001b[0m \u001b[43m    \u001b[49m\u001b[43maggfunc\u001b[49m\u001b[43m,\u001b[49m\n\u001b[0;32m    108\u001b[0m \u001b[43m    \u001b[49m\u001b[43mfill_value\u001b[49m\u001b[43m,\u001b[49m\n\u001b[0;32m    109\u001b[0m \u001b[43m    \u001b[49m\u001b[43mmargins\u001b[49m\u001b[43m,\u001b[49m\n\u001b[0;32m    110\u001b[0m \u001b[43m    \u001b[49m\u001b[43mdropna\u001b[49m\u001b[43m,\u001b[49m\n\u001b[0;32m    111\u001b[0m \u001b[43m    \u001b[49m\u001b[43mmargins_name\u001b[49m\u001b[43m,\u001b[49m\n\u001b[0;32m    112\u001b[0m \u001b[43m    \u001b[49m\u001b[43mobserved\u001b[49m\u001b[43m,\u001b[49m\n\u001b[0;32m    113\u001b[0m \u001b[43m    \u001b[49m\u001b[43msort\u001b[49m\u001b[43m,\u001b[49m\n\u001b[0;32m    114\u001b[0m \u001b[43m\u001b[49m\u001b[43m)\u001b[49m\n\u001b[0;32m    115\u001b[0m \u001b[38;5;28;01mreturn\u001b[39;00m table\u001b[38;5;241m.\u001b[39m__finalize__(data, method\u001b[38;5;241m=\u001b[39m\u001b[38;5;124m\"\u001b[39m\u001b[38;5;124mpivot_table\u001b[39m\u001b[38;5;124m\"\u001b[39m)\n",
      "File \u001b[1;32mc:\\Users\\emine\\AppData\\Local\\Programs\\Python\\Python312\\Lib\\site-packages\\pandas\\core\\reshape\\pivot.py:183\u001b[0m, in \u001b[0;36m__internal_pivot_table\u001b[1;34m(data, values, index, columns, aggfunc, fill_value, margins, dropna, margins_name, observed, sort)\u001b[0m\n\u001b[0;32m    173\u001b[0m \u001b[38;5;28;01mif\u001b[39;00m observed \u001b[38;5;129;01mis\u001b[39;00m lib\u001b[38;5;241m.\u001b[39mno_default \u001b[38;5;129;01mand\u001b[39;00m \u001b[38;5;28many\u001b[39m(\n\u001b[0;32m    174\u001b[0m     ping\u001b[38;5;241m.\u001b[39m_passed_categorical \u001b[38;5;28;01mfor\u001b[39;00m ping \u001b[38;5;129;01min\u001b[39;00m grouped\u001b[38;5;241m.\u001b[39m_grouper\u001b[38;5;241m.\u001b[39mgroupings\n\u001b[0;32m    175\u001b[0m ):\n\u001b[0;32m    176\u001b[0m     warnings\u001b[38;5;241m.\u001b[39mwarn(\n\u001b[0;32m    177\u001b[0m         \u001b[38;5;124m\"\u001b[39m\u001b[38;5;124mThe default value of observed=False is deprecated and will change \u001b[39m\u001b[38;5;124m\"\u001b[39m\n\u001b[0;32m    178\u001b[0m         \u001b[38;5;124m\"\u001b[39m\u001b[38;5;124mto observed=True in a future version of pandas. Specify \u001b[39m\u001b[38;5;124m\"\u001b[39m\n\u001b[1;32m   (...)\u001b[0m\n\u001b[0;32m    181\u001b[0m         stacklevel\u001b[38;5;241m=\u001b[39mfind_stack_level(),\n\u001b[0;32m    182\u001b[0m     )\n\u001b[1;32m--> 183\u001b[0m agged \u001b[38;5;241m=\u001b[39m \u001b[43mgrouped\u001b[49m\u001b[38;5;241;43m.\u001b[39;49m\u001b[43magg\u001b[49m\u001b[43m(\u001b[49m\u001b[43maggfunc\u001b[49m\u001b[43m)\u001b[49m\n\u001b[0;32m    185\u001b[0m \u001b[38;5;28;01mif\u001b[39;00m dropna \u001b[38;5;129;01mand\u001b[39;00m \u001b[38;5;28misinstance\u001b[39m(agged, ABCDataFrame) \u001b[38;5;129;01mand\u001b[39;00m \u001b[38;5;28mlen\u001b[39m(agged\u001b[38;5;241m.\u001b[39mcolumns):\n\u001b[0;32m    186\u001b[0m     agged \u001b[38;5;241m=\u001b[39m agged\u001b[38;5;241m.\u001b[39mdropna(how\u001b[38;5;241m=\u001b[39m\u001b[38;5;124m\"\u001b[39m\u001b[38;5;124mall\u001b[39m\u001b[38;5;124m\"\u001b[39m)\n",
      "File \u001b[1;32mc:\\Users\\emine\\AppData\\Local\\Programs\\Python\\Python312\\Lib\\site-packages\\pandas\\core\\groupby\\generic.py:1466\u001b[0m, in \u001b[0;36mDataFrameGroupBy.aggregate\u001b[1;34m(self, func, engine, engine_kwargs, *args, **kwargs)\u001b[0m\n\u001b[0;32m   1463\u001b[0m \u001b[38;5;66;03m# grouper specific aggregations\u001b[39;00m\n\u001b[0;32m   1464\u001b[0m \u001b[38;5;28;01mif\u001b[39;00m \u001b[38;5;28mself\u001b[39m\u001b[38;5;241m.\u001b[39m_grouper\u001b[38;5;241m.\u001b[39mnkeys \u001b[38;5;241m>\u001b[39m \u001b[38;5;241m1\u001b[39m:\n\u001b[0;32m   1465\u001b[0m     \u001b[38;5;66;03m# test_groupby_as_index_series_scalar gets here with 'not self.as_index'\u001b[39;00m\n\u001b[1;32m-> 1466\u001b[0m     \u001b[38;5;28;01mreturn\u001b[39;00m \u001b[38;5;28;43mself\u001b[39;49m\u001b[38;5;241;43m.\u001b[39;49m\u001b[43m_python_agg_general\u001b[49m\u001b[43m(\u001b[49m\u001b[43mfunc\u001b[49m\u001b[43m,\u001b[49m\u001b[43m \u001b[49m\u001b[38;5;241;43m*\u001b[39;49m\u001b[43margs\u001b[49m\u001b[43m,\u001b[49m\u001b[43m \u001b[49m\u001b[38;5;241;43m*\u001b[39;49m\u001b[38;5;241;43m*\u001b[39;49m\u001b[43mkwargs\u001b[49m\u001b[43m)\u001b[49m\n\u001b[0;32m   1467\u001b[0m \u001b[38;5;28;01melif\u001b[39;00m args \u001b[38;5;129;01mor\u001b[39;00m kwargs:\n\u001b[0;32m   1468\u001b[0m     \u001b[38;5;66;03m# test_pass_args_kwargs gets here (with and without as_index)\u001b[39;00m\n\u001b[0;32m   1469\u001b[0m     \u001b[38;5;66;03m# can't return early\u001b[39;00m\n\u001b[0;32m   1470\u001b[0m     result \u001b[38;5;241m=\u001b[39m \u001b[38;5;28mself\u001b[39m\u001b[38;5;241m.\u001b[39m_aggregate_frame(func, \u001b[38;5;241m*\u001b[39margs, \u001b[38;5;241m*\u001b[39m\u001b[38;5;241m*\u001b[39mkwargs)\n",
      "File \u001b[1;32mc:\\Users\\emine\\AppData\\Local\\Programs\\Python\\Python312\\Lib\\site-packages\\pandas\\core\\groupby\\generic.py:1517\u001b[0m, in \u001b[0;36mDataFrameGroupBy._python_agg_general\u001b[1;34m(self, func, *args, **kwargs)\u001b[0m\n\u001b[0;32m   1514\u001b[0m     warn_alias_replacement(\u001b[38;5;28mself\u001b[39m, orig_func, alias)\n\u001b[0;32m   1515\u001b[0m f \u001b[38;5;241m=\u001b[39m \u001b[38;5;28;01mlambda\u001b[39;00m x: func(x, \u001b[38;5;241m*\u001b[39margs, \u001b[38;5;241m*\u001b[39m\u001b[38;5;241m*\u001b[39mkwargs)\n\u001b[1;32m-> 1517\u001b[0m \u001b[38;5;28;01mif\u001b[39;00m \u001b[38;5;28;43mself\u001b[39;49m\u001b[38;5;241;43m.\u001b[39;49m\u001b[43mngroups\u001b[49m \u001b[38;5;241m==\u001b[39m \u001b[38;5;241m0\u001b[39m:\n\u001b[0;32m   1518\u001b[0m     \u001b[38;5;66;03m# e.g. test_evaluate_with_empty_groups different path gets different\u001b[39;00m\n\u001b[0;32m   1519\u001b[0m     \u001b[38;5;66;03m#  result dtype in empty case.\u001b[39;00m\n\u001b[0;32m   1520\u001b[0m     \u001b[38;5;28;01mreturn\u001b[39;00m \u001b[38;5;28mself\u001b[39m\u001b[38;5;241m.\u001b[39m_python_apply_general(f, \u001b[38;5;28mself\u001b[39m\u001b[38;5;241m.\u001b[39m_selected_obj, is_agg\u001b[38;5;241m=\u001b[39m\u001b[38;5;28;01mTrue\u001b[39;00m)\n\u001b[0;32m   1522\u001b[0m obj \u001b[38;5;241m=\u001b[39m \u001b[38;5;28mself\u001b[39m\u001b[38;5;241m.\u001b[39m_obj_with_exclusions\n",
      "File \u001b[1;32mc:\\Users\\emine\\AppData\\Local\\Programs\\Python\\Python312\\Lib\\site-packages\\pandas\\core\\groupby\\groupby.py:856\u001b[0m, in \u001b[0;36mBaseGroupBy.ngroups\u001b[1;34m(self)\u001b[0m\n\u001b[0;32m    853\u001b[0m \u001b[38;5;129m@final\u001b[39m\n\u001b[0;32m    854\u001b[0m \u001b[38;5;129m@property\u001b[39m\n\u001b[0;32m    855\u001b[0m \u001b[38;5;28;01mdef\u001b[39;00m \u001b[38;5;21mngroups\u001b[39m(\u001b[38;5;28mself\u001b[39m) \u001b[38;5;241m-\u001b[39m\u001b[38;5;241m>\u001b[39m \u001b[38;5;28mint\u001b[39m:\n\u001b[1;32m--> 856\u001b[0m     \u001b[38;5;28;01mreturn\u001b[39;00m \u001b[38;5;28;43mself\u001b[39;49m\u001b[38;5;241;43m.\u001b[39;49m\u001b[43m_grouper\u001b[49m\u001b[38;5;241;43m.\u001b[39;49m\u001b[43mngroups\u001b[49m\n",
      "File \u001b[1;32mproperties.pyx:36\u001b[0m, in \u001b[0;36mpandas._libs.properties.CachedProperty.__get__\u001b[1;34m()\u001b[0m\n",
      "File \u001b[1;32mc:\\Users\\emine\\AppData\\Local\\Programs\\Python\\Python312\\Lib\\site-packages\\pandas\\core\\groupby\\ops.py:774\u001b[0m, in \u001b[0;36mBaseGrouper.ngroups\u001b[1;34m(self)\u001b[0m\n\u001b[0;32m    771\u001b[0m \u001b[38;5;129m@final\u001b[39m\n\u001b[0;32m    772\u001b[0m \u001b[38;5;129m@cache_readonly\u001b[39m\n\u001b[0;32m    773\u001b[0m \u001b[38;5;28;01mdef\u001b[39;00m \u001b[38;5;21mngroups\u001b[39m(\u001b[38;5;28mself\u001b[39m) \u001b[38;5;241m-\u001b[39m\u001b[38;5;241m>\u001b[39m \u001b[38;5;28mint\u001b[39m:\n\u001b[1;32m--> 774\u001b[0m     \u001b[38;5;28;01mreturn\u001b[39;00m \u001b[38;5;28mlen\u001b[39m(\u001b[38;5;28;43mself\u001b[39;49m\u001b[38;5;241;43m.\u001b[39;49m\u001b[43mresult_index\u001b[49m)\n",
      "File \u001b[1;32mproperties.pyx:36\u001b[0m, in \u001b[0;36mpandas._libs.properties.CachedProperty.__get__\u001b[1;34m()\u001b[0m\n",
      "File \u001b[1;32mc:\\Users\\emine\\AppData\\Local\\Programs\\Python\\Python312\\Lib\\site-packages\\pandas\\core\\groupby\\ops.py:787\u001b[0m, in \u001b[0;36mBaseGrouper.result_index\u001b[1;34m(self)\u001b[0m\n\u001b[0;32m    784\u001b[0m \u001b[38;5;28;01mif\u001b[39;00m \u001b[38;5;28mlen\u001b[39m(\u001b[38;5;28mself\u001b[39m\u001b[38;5;241m.\u001b[39mgroupings) \u001b[38;5;241m==\u001b[39m \u001b[38;5;241m1\u001b[39m:\n\u001b[0;32m    785\u001b[0m     \u001b[38;5;28;01mreturn\u001b[39;00m \u001b[38;5;28mself\u001b[39m\u001b[38;5;241m.\u001b[39mgroupings[\u001b[38;5;241m0\u001b[39m]\u001b[38;5;241m.\u001b[39m_result_index\u001b[38;5;241m.\u001b[39mrename(\u001b[38;5;28mself\u001b[39m\u001b[38;5;241m.\u001b[39mnames[\u001b[38;5;241m0\u001b[39m])\n\u001b[1;32m--> 787\u001b[0m codes \u001b[38;5;241m=\u001b[39m \u001b[38;5;28;43mself\u001b[39;49m\u001b[38;5;241;43m.\u001b[39;49m\u001b[43mreconstructed_codes\u001b[49m\n\u001b[0;32m    788\u001b[0m levels \u001b[38;5;241m=\u001b[39m [ping\u001b[38;5;241m.\u001b[39m_result_index \u001b[38;5;28;01mfor\u001b[39;00m ping \u001b[38;5;129;01min\u001b[39;00m \u001b[38;5;28mself\u001b[39m\u001b[38;5;241m.\u001b[39mgroupings]\n\u001b[0;32m    789\u001b[0m \u001b[38;5;28;01mreturn\u001b[39;00m MultiIndex(\n\u001b[0;32m    790\u001b[0m     levels\u001b[38;5;241m=\u001b[39mlevels, codes\u001b[38;5;241m=\u001b[39mcodes, verify_integrity\u001b[38;5;241m=\u001b[39m\u001b[38;5;28;01mFalse\u001b[39;00m, names\u001b[38;5;241m=\u001b[39m\u001b[38;5;28mself\u001b[39m\u001b[38;5;241m.\u001b[39mnames\n\u001b[0;32m    791\u001b[0m )\n",
      "File \u001b[1;32mc:\\Users\\emine\\AppData\\Local\\Programs\\Python\\Python312\\Lib\\site-packages\\pandas\\core\\groupby\\ops.py:778\u001b[0m, in \u001b[0;36mBaseGrouper.reconstructed_codes\u001b[1;34m(self)\u001b[0m\n\u001b[0;32m    776\u001b[0m \u001b[38;5;129m@property\u001b[39m\n\u001b[0;32m    777\u001b[0m \u001b[38;5;28;01mdef\u001b[39;00m \u001b[38;5;21mreconstructed_codes\u001b[39m(\u001b[38;5;28mself\u001b[39m) \u001b[38;5;241m-\u001b[39m\u001b[38;5;241m>\u001b[39m \u001b[38;5;28mlist\u001b[39m[npt\u001b[38;5;241m.\u001b[39mNDArray[np\u001b[38;5;241m.\u001b[39mintp]]:\n\u001b[1;32m--> 778\u001b[0m     codes \u001b[38;5;241m=\u001b[39m \u001b[38;5;28;43mself\u001b[39;49m\u001b[38;5;241;43m.\u001b[39;49m\u001b[43mcodes\u001b[49m\n\u001b[0;32m    779\u001b[0m     ids, obs_ids, _ \u001b[38;5;241m=\u001b[39m \u001b[38;5;28mself\u001b[39m\u001b[38;5;241m.\u001b[39mgroup_info\n\u001b[0;32m    780\u001b[0m     \u001b[38;5;28;01mreturn\u001b[39;00m decons_obs_group_ids(ids, obs_ids, \u001b[38;5;28mself\u001b[39m\u001b[38;5;241m.\u001b[39mshape, codes, xnull\u001b[38;5;241m=\u001b[39m\u001b[38;5;28;01mTrue\u001b[39;00m)\n",
      "File \u001b[1;32mc:\\Users\\emine\\AppData\\Local\\Programs\\Python\\Python312\\Lib\\site-packages\\pandas\\core\\groupby\\ops.py:690\u001b[0m, in \u001b[0;36mBaseGrouper.codes\u001b[1;34m(self)\u001b[0m\n\u001b[0;32m    687\u001b[0m \u001b[38;5;129m@final\u001b[39m\n\u001b[0;32m    688\u001b[0m \u001b[38;5;129m@property\u001b[39m\n\u001b[0;32m    689\u001b[0m \u001b[38;5;28;01mdef\u001b[39;00m \u001b[38;5;21mcodes\u001b[39m(\u001b[38;5;28mself\u001b[39m) \u001b[38;5;241m-\u001b[39m\u001b[38;5;241m>\u001b[39m \u001b[38;5;28mlist\u001b[39m[npt\u001b[38;5;241m.\u001b[39mNDArray[np\u001b[38;5;241m.\u001b[39msignedinteger]]:\n\u001b[1;32m--> 690\u001b[0m     \u001b[38;5;28;01mreturn\u001b[39;00m [\u001b[43mping\u001b[49m\u001b[38;5;241;43m.\u001b[39;49m\u001b[43mcodes\u001b[49m \u001b[38;5;28;01mfor\u001b[39;00m ping \u001b[38;5;129;01min\u001b[39;00m \u001b[38;5;28mself\u001b[39m\u001b[38;5;241m.\u001b[39mgroupings]\n",
      "File \u001b[1;32mc:\\Users\\emine\\AppData\\Local\\Programs\\Python\\Python312\\Lib\\site-packages\\pandas\\core\\groupby\\grouper.py:691\u001b[0m, in \u001b[0;36mGrouping.codes\u001b[1;34m(self)\u001b[0m\n\u001b[0;32m    689\u001b[0m \u001b[38;5;129m@property\u001b[39m\n\u001b[0;32m    690\u001b[0m \u001b[38;5;28;01mdef\u001b[39;00m \u001b[38;5;21mcodes\u001b[39m(\u001b[38;5;28mself\u001b[39m) \u001b[38;5;241m-\u001b[39m\u001b[38;5;241m>\u001b[39m npt\u001b[38;5;241m.\u001b[39mNDArray[np\u001b[38;5;241m.\u001b[39msignedinteger]:\n\u001b[1;32m--> 691\u001b[0m     \u001b[38;5;28;01mreturn\u001b[39;00m \u001b[38;5;28;43mself\u001b[39;49m\u001b[38;5;241;43m.\u001b[39;49m\u001b[43m_codes_and_uniques\u001b[49m[\u001b[38;5;241m0\u001b[39m]\n",
      "File \u001b[1;32mproperties.pyx:36\u001b[0m, in \u001b[0;36mpandas._libs.properties.CachedProperty.__get__\u001b[1;34m()\u001b[0m\n",
      "File \u001b[1;32mc:\\Users\\emine\\AppData\\Local\\Programs\\Python\\Python312\\Lib\\site-packages\\pandas\\core\\groupby\\grouper.py:835\u001b[0m, in \u001b[0;36mGrouping._codes_and_uniques\u001b[1;34m(self)\u001b[0m\n\u001b[0;32m    830\u001b[0m     uniques \u001b[38;5;241m=\u001b[39m \u001b[38;5;28mself\u001b[39m\u001b[38;5;241m.\u001b[39m_uniques\n\u001b[0;32m    831\u001b[0m \u001b[38;5;28;01melse\u001b[39;00m:\n\u001b[0;32m    832\u001b[0m     \u001b[38;5;66;03m# GH35667, replace dropna=False with use_na_sentinel=False\u001b[39;00m\n\u001b[0;32m    833\u001b[0m     \u001b[38;5;66;03m# error: Incompatible types in assignment (expression has type \"Union[\u001b[39;00m\n\u001b[0;32m    834\u001b[0m     \u001b[38;5;66;03m# ndarray[Any, Any], Index]\", variable has type \"Categorical\")\u001b[39;00m\n\u001b[1;32m--> 835\u001b[0m     codes, uniques \u001b[38;5;241m=\u001b[39m \u001b[43malgorithms\u001b[49m\u001b[38;5;241;43m.\u001b[39;49m\u001b[43mfactorize\u001b[49m\u001b[43m(\u001b[49m\u001b[43m  \u001b[49m\u001b[38;5;66;43;03m# type: ignore[assignment]\u001b[39;49;00m\n\u001b[0;32m    836\u001b[0m \u001b[43m        \u001b[49m\u001b[38;5;28;43mself\u001b[39;49m\u001b[38;5;241;43m.\u001b[39;49m\u001b[43mgrouping_vector\u001b[49m\u001b[43m,\u001b[49m\u001b[43m \u001b[49m\u001b[43msort\u001b[49m\u001b[38;5;241;43m=\u001b[39;49m\u001b[38;5;28;43mself\u001b[39;49m\u001b[38;5;241;43m.\u001b[39;49m\u001b[43m_sort\u001b[49m\u001b[43m,\u001b[49m\u001b[43m \u001b[49m\u001b[43muse_na_sentinel\u001b[49m\u001b[38;5;241;43m=\u001b[39;49m\u001b[38;5;28;43mself\u001b[39;49m\u001b[38;5;241;43m.\u001b[39;49m\u001b[43m_dropna\u001b[49m\n\u001b[0;32m    837\u001b[0m \u001b[43m    \u001b[49m\u001b[43m)\u001b[49m\n\u001b[0;32m    838\u001b[0m \u001b[38;5;28;01mreturn\u001b[39;00m codes, uniques\n",
      "File \u001b[1;32mc:\\Users\\emine\\AppData\\Local\\Programs\\Python\\Python312\\Lib\\site-packages\\pandas\\core\\algorithms.py:795\u001b[0m, in \u001b[0;36mfactorize\u001b[1;34m(values, sort, use_na_sentinel, size_hint)\u001b[0m\n\u001b[0;32m    792\u001b[0m             \u001b[38;5;66;03m# Don't modify (potentially user-provided) array\u001b[39;00m\n\u001b[0;32m    793\u001b[0m             values \u001b[38;5;241m=\u001b[39m np\u001b[38;5;241m.\u001b[39mwhere(null_mask, na_value, values)\n\u001b[1;32m--> 795\u001b[0m     codes, uniques \u001b[38;5;241m=\u001b[39m \u001b[43mfactorize_array\u001b[49m\u001b[43m(\u001b[49m\n\u001b[0;32m    796\u001b[0m \u001b[43m        \u001b[49m\u001b[43mvalues\u001b[49m\u001b[43m,\u001b[49m\n\u001b[0;32m    797\u001b[0m \u001b[43m        \u001b[49m\u001b[43muse_na_sentinel\u001b[49m\u001b[38;5;241;43m=\u001b[39;49m\u001b[43muse_na_sentinel\u001b[49m\u001b[43m,\u001b[49m\n\u001b[0;32m    798\u001b[0m \u001b[43m        \u001b[49m\u001b[43msize_hint\u001b[49m\u001b[38;5;241;43m=\u001b[39;49m\u001b[43msize_hint\u001b[49m\u001b[43m,\u001b[49m\n\u001b[0;32m    799\u001b[0m \u001b[43m    \u001b[49m\u001b[43m)\u001b[49m\n\u001b[0;32m    801\u001b[0m \u001b[38;5;28;01mif\u001b[39;00m sort \u001b[38;5;129;01mand\u001b[39;00m \u001b[38;5;28mlen\u001b[39m(uniques) \u001b[38;5;241m>\u001b[39m \u001b[38;5;241m0\u001b[39m:\n\u001b[0;32m    802\u001b[0m     uniques, codes \u001b[38;5;241m=\u001b[39m safe_sort(\n\u001b[0;32m    803\u001b[0m         uniques,\n\u001b[0;32m    804\u001b[0m         codes,\n\u001b[1;32m   (...)\u001b[0m\n\u001b[0;32m    807\u001b[0m         verify\u001b[38;5;241m=\u001b[39m\u001b[38;5;28;01mFalse\u001b[39;00m,\n\u001b[0;32m    808\u001b[0m     )\n",
      "File \u001b[1;32mc:\\Users\\emine\\AppData\\Local\\Programs\\Python\\Python312\\Lib\\site-packages\\pandas\\core\\algorithms.py:595\u001b[0m, in \u001b[0;36mfactorize_array\u001b[1;34m(values, use_na_sentinel, size_hint, na_value, mask)\u001b[0m\n\u001b[0;32m    592\u001b[0m hash_klass, values \u001b[38;5;241m=\u001b[39m _get_hashtable_algo(values)\n\u001b[0;32m    594\u001b[0m table \u001b[38;5;241m=\u001b[39m hash_klass(size_hint \u001b[38;5;129;01mor\u001b[39;00m \u001b[38;5;28mlen\u001b[39m(values))\n\u001b[1;32m--> 595\u001b[0m uniques, codes \u001b[38;5;241m=\u001b[39m \u001b[43mtable\u001b[49m\u001b[38;5;241;43m.\u001b[39;49m\u001b[43mfactorize\u001b[49m\u001b[43m(\u001b[49m\n\u001b[0;32m    596\u001b[0m \u001b[43m    \u001b[49m\u001b[43mvalues\u001b[49m\u001b[43m,\u001b[49m\n\u001b[0;32m    597\u001b[0m \u001b[43m    \u001b[49m\u001b[43mna_sentinel\u001b[49m\u001b[38;5;241;43m=\u001b[39;49m\u001b[38;5;241;43m-\u001b[39;49m\u001b[38;5;241;43m1\u001b[39;49m\u001b[43m,\u001b[49m\n\u001b[0;32m    598\u001b[0m \u001b[43m    \u001b[49m\u001b[43mna_value\u001b[49m\u001b[38;5;241;43m=\u001b[39;49m\u001b[43mna_value\u001b[49m\u001b[43m,\u001b[49m\n\u001b[0;32m    599\u001b[0m \u001b[43m    \u001b[49m\u001b[43mmask\u001b[49m\u001b[38;5;241;43m=\u001b[39;49m\u001b[43mmask\u001b[49m\u001b[43m,\u001b[49m\n\u001b[0;32m    600\u001b[0m \u001b[43m    \u001b[49m\u001b[43mignore_na\u001b[49m\u001b[38;5;241;43m=\u001b[39;49m\u001b[43muse_na_sentinel\u001b[49m\u001b[43m,\u001b[49m\n\u001b[0;32m    601\u001b[0m \u001b[43m\u001b[49m\u001b[43m)\u001b[49m\n\u001b[0;32m    603\u001b[0m \u001b[38;5;66;03m# re-cast e.g. i8->dt64/td64, uint8->bool\u001b[39;00m\n\u001b[0;32m    604\u001b[0m uniques \u001b[38;5;241m=\u001b[39m _reconstruct_data(uniques, original\u001b[38;5;241m.\u001b[39mdtype, original)\n",
      "\u001b[1;31mKeyboardInterrupt\u001b[0m: "
     ]
    }
   ],
   "source": [
    "# 12.1. GENERATE EDA REPORT FOR ENCODED DATA\n",
    "# Generate profiling report for cleaned/encoded data\n",
    "profile_clean = ProfileReport(df_telco_encoded, title=\"EDA Report - Cleaned Telco Data\", minimal=True)\n",
    "# Save to CIND820 folder\n",
    "profile_clean.to_file(\"C:/Users/emine/OneDrive/Masaüstü/CIND820/eda_telco_cleaned.html\")"
   ]
  },
  {
   "cell_type": "code",
   "execution_count": null,
   "id": "3b6619a7",
   "metadata": {},
   "outputs": [],
   "source": [
    "# 13. FEATURE ENGINEERING\n",
    "# 13.1. Long-term customer\n",
    "X_train['IsLongTermCustomer'] = (X_train['tenure'] > 24).astype(int)\n",
    "X_test['IsLongTermCustomer'] = (X_test['tenure'] > 24).astype(int)"
   ]
  },
  {
   "cell_type": "code",
   "execution_count": null,
   "id": "17add803",
   "metadata": {},
   "outputs": [],
   "source": [
    "# 13.2. High monthly charge\n",
    "X_train['HighMonthlyChargeFlag'] = (X_train['MonthlyCharges'] > 70).astype(int)\n",
    "X_test['HighMonthlyChargeFlag'] = (X_test['MonthlyCharges'] > 70).astype(int)"
   ]
  },
  {
   "cell_type": "code",
   "execution_count": null,
   "id": "84a4ca7d",
   "metadata": {},
   "outputs": [],
   "source": [
    "# 13.3. TotalChargesPerMonth\n",
    "X_train['TotalChargesPerMonth'] = X_train['TotalCharges'] / X_train['tenure'].replace(0, np.nan)\n",
    "X_test['TotalChargesPerMonth'] = X_test['TotalCharges'] / X_test['tenure'].replace(0, np.nan)\n",
    "X_train['TotalChargesPerMonth'] = X_train['TotalChargesPerMonth'].fillna(0)\n",
    "X_test['TotalChargesPerMonth'] = X_test['TotalChargesPerMonth'].fillna(0)"
   ]
  },
  {
   "cell_type": "code",
   "execution_count": null,
   "id": "634c05c8",
   "metadata": {},
   "outputs": [],
   "source": [
    "# 13.4. Contract length\n",
    "contract_map = {'Month-to-month': 0, 'One year': 1, 'Two year': 2}\n",
    "X_train['ContractLength'] = X_train.get('Contract', pd.Series(0)).map(contract_map).fillna(0)\n",
    "X_test['ContractLength'] = X_test.get('Contract', pd.Series(0)).map(contract_map).fillna(0)\n",
    "# COMMENT: Feature engineering creates new variables that may enhance model performance by capturing additional patterns in the data."
   ]
  },
  {
   "cell_type": "markdown",
   "id": "bc83c129",
   "metadata": {},
   "source": [
    "14. ENGAGEMENT SCORE (Bundled Services Index)\n",
    "This metrric shows how many value-added digital services (security, support, streaming) a customer uses.\n",
    "It quantifies customer engagement with the service ecosystem, which can be a strong predictor of churn."
   ]
  },
  {
   "cell_type": "code",
   "execution_count": null,
   "id": "d8430e00",
   "metadata": {},
   "outputs": [],
   "source": [
    "bundled_features = ['OnlineSecurity', 'OnlineBackup', 'DeviceProtection', 'TechSupport', 'StreamingTV', 'StreamingMovies']\n",
    "bundled_cols_train = [col for col in X_train.columns if any(f\"{f}_Yes\" in col for f in bundled_features)]\n",
    "bundled_cols_test = [col for col in X_test.columns if any(f\"{f}_Yes\" in col for f in bundled_features)]"
   ]
  },
  {
   "cell_type": "code",
   "execution_count": null,
   "id": "0cd338f7",
   "metadata": {},
   "outputs": [],
   "source": [
    "X_train['EngagementScore'] = X_train[bundled_cols_train].sum(axis=1)\n",
    "X_test['EngagementScore'] = X_test[bundled_cols_test].sum(axis=1)\n",
    "# COMMENT: EngagementScore quantifies how many value-added digital services (security, support, streaming) a customer uses. Higher scores may signal greater customer retention due to stronger integration with the service ecosystem."
   ]
  },
  {
   "cell_type": "code",
   "execution_count": null,
   "id": "ec66bdc6",
   "metadata": {},
   "outputs": [],
   "source": [
    "# 14.1. VISUALIZE ENGAGEMENT SCORE DISTRIBUTION FOR INTERPRETATION\n",
    "plt.figure(figsize=(8, 4))\n",
    "sns.histplot(X_train['EngagementScore'], bins=7, kde=False, color='skyblue', edgecolor='black')\n",
    "plt.title(\"Distribution of Engagement Score (Train Set)\")\n",
    "plt.xlabel(\"Number of Active Digital Services\")\n",
    "plt.ylabel(\"Customer Count\")\n",
    "plt.tight_layout()\n",
    "plt.show()\n",
    "# COMMENT: This histogram shows the distribution of Engagement Scores, indicating how many bundled services customers typically use. Most customers use 2-3 services, with fewer using all 6.\n",
    "# COMMENT: EngagementScore quantifies how many value-added digital services (security, support, streaming) a customer uses. \n",
    "# Higher scores may signal greater customer retention due to stronger integration with the service ecosystem."
   ]
  },
  {
   "cell_type": "code",
   "execution_count": null,
   "id": "693cc70d",
   "metadata": {},
   "outputs": [],
   "source": [
    "# 14.2. CHURN RATE DISTRUBITION BY ENGAGEMENT SCORE\n",
    "plt.figure(figsize=(8, 5))\n",
    "sns.boxplot(x=y_train, y=X_train['EngagementScore'], palette='pastel')\n",
    "plt.title(\"Engagement Score by Churn Status\")\n",
    "plt.xlabel(\"Churn (0 = No, 1 = Yes)\")\n",
    "plt.ylabel(\"Engagement Score\")\n",
    "plt.xticks([0, 1], ['Non-Churn', 'Churn'])\n",
    "plt.tight_layout()\n",
    "plt.show()"
   ]
  },
  {
   "cell_type": "code",
   "execution_count": null,
   "id": "96471548",
   "metadata": {},
   "outputs": [],
   "source": [
    "#14.3. CHECK AVERAGE ENGAGEMENT SCORE FOR CHURNED AND NON-CHURNED CUSTOMERS\n",
    "# Calculate mean EngagementScore using training set only\n",
    "mean_engaged_churn = X_train[y_train == 1]['EngagementScore'].mean()\n",
    "mean_engaged_nonchurn = X_train[y_train == 0]['EngagementScore'].mean()"
   ]
  },
  {
   "cell_type": "code",
   "execution_count": null,
   "id": "19f61a59",
   "metadata": {},
   "outputs": [],
   "source": [
    "print(f\"Average EngagementScore (Churned): {mean_engaged_churn:.2f}\")\n",
    "print(f\"Average EngagementScore (Non-Churned): {mean_engaged_nonchurn:.2f}\")\n",
    "# COMMENT: The average EngagementScore shows that churned customers use fewer bundled digital services compared to non-churned ones.\n",
    "# COMMENT: Calculating these averages from the training set ensures no data leakage while still revealing meaningful patterns."
   ]
  },
  {
   "cell_type": "code",
   "execution_count": null,
   "id": "700e249c",
   "metadata": {},
   "outputs": [],
   "source": [
    "# 15. SCALING NUMERIC FEATURES\n",
    "num_cols = ['tenure', 'MonthlyCharges', 'TotalCharges', 'TotalChargesPerMonth']\n",
    "scaler = StandardScaler()\n",
    "X_train[num_cols] = scaler.fit_transform(X_train[num_cols])\n",
    "X_test[num_cols] = scaler.transform(X_test[num_cols])\n",
    "# COMMENT: Standardization is crucial for distance-based models and for maintaining equal influence across features. Scaling is applied only after train-test split to prevent data leakage."
   ]
  },
  {
   "cell_type": "code",
   "execution_count": null,
   "id": "0c49e660",
   "metadata": {},
   "outputs": [],
   "source": [
    "# 16. EDA VISUALS FOR NUMERICAL DISTRIBUTIONS\n",
    "num_cols = ['tenure', 'MonthlyCharges', 'TotalCharges']\n",
    "plt.figure(figsize=(15, 4))\n",
    "for i, col in enumerate(num_cols):\n",
    "    plt.subplot(1, 3, i + 1)\n",
    "    sns.histplot(df_telco[col], kde=True, bins=30)\n",
    "    plt.title(f\"Distribution of {col}\")\n",
    "plt.tight_layout()\n",
    "plt.show()"
   ]
  },
  {
   "cell_type": "markdown",
   "id": "28b1fa1b",
   "metadata": {},
   "source": [
    "COMMENT: Visualizes the distribution of key numerical features, helping to spot skewness or multimodal patterns."
   ]
  },
  {
   "cell_type": "code",
   "execution_count": null,
   "id": "12782e52",
   "metadata": {
    "lines_to_next_cell": 1
   },
   "outputs": [],
   "source": [
    "# 17. CATEGORICAL FEATURE DISTRIBUTION BY CHURN\n",
    "cat_eda_cols = ['InternetService', 'Contract', 'PaymentMethod']\n",
    "plt.figure(figsize=(15, 8))\n",
    "for i, col in enumerate(cat_eda_cols):\n",
    "    plt.subplot(2, 2, i + 1)\n",
    "    sns.countplot(data=df_telco, x=col, hue='Churn')\n",
    "    plt.title(f\"{col} by Churn\")\n",
    "    plt.xticks(rotation=45)\n",
    "plt.tight_layout()\n",
    "plt.show()"
   ]
  },
  {
   "cell_type": "markdown",
   "id": "a8615af3",
   "metadata": {},
   "source": [
    "COMMENT: Reveals relationships between churn and key categorical features through side-by-side bar plots."
   ]
  },
  {
   "cell_type": "markdown",
   "id": "42222ed5",
   "metadata": {},
   "source": [
    "17.1. CHURN RATE BY SERVICE TYPE (Contract, TechSupport, OnlineSecurity, InternetService)"
   ]
  },
  {
   "cell_type": "code",
   "execution_count": null,
   "id": "5318ed3b",
   "metadata": {
    "lines_to_next_cell": 1
   },
   "outputs": [],
   "source": [
    "def churn_rate_by_category(df, column):\n",
    "    churn_pct = pd.crosstab(df[column], df['Churn'], normalize='index') * 100\n",
    "    churn_pct = churn_pct.rename(columns={0: 'Non-Churn %', 1: 'Churn %'})\n",
    "\n",
    "    # Visualization\n",
    "    churn_pct['Churn %'].plot(kind='bar', figsize=(8, 5), color='salmon', edgecolor='black')\n",
    "    plt.title(f\"Churn Rate by {column}\")\n",
    "    plt.ylabel(\"Churn Percentage\")\n",
    "    plt.xlabel(column)\n",
    "    plt.xticks(rotation=45)\n",
    "    plt.tight_layout()\n",
    "    plt.show()\n",
    "\n",
    "    print(f\"\\nChurn Percentage by {column}:\\n\", churn_pct.round(2))"
   ]
  },
  {
   "cell_type": "code",
   "execution_count": null,
   "id": "04d0e761",
   "metadata": {},
   "outputs": [],
   "source": [
    "# Run for selected features\n",
    "for col in ['Contract', 'TechSupport', 'OnlineSecurity', 'InternetService']:\n",
    "    churn_rate_by_category(df_telco, col)"
   ]
  },
  {
   "cell_type": "markdown",
   "id": "b5439537",
   "metadata": {},
   "source": [
    "COMMENT: This function calculates churn rates for a given categorical feature and visualizes the results, providing insights into how different categories relate to churn.\n",
    "COMMENT: This analysis shows how different service features impact churn rates, providing actionable insights for customer retention strategies.\n",
    "Contract : Customers with Month-to-month contracts exhibit a significantly higher churn rate (over 40%) compared to those on One year or Two year plans. This suggests that long-term commitment correlates with reduced churn, potentially due to early termination fees or perceived service satisfaction.\n",
    "TechSupport : Churn is notably higher among customers who do not have Tech Support services. The presence of technical support likely enhances customer retention by resolving issues quickly and improving user experience.\n",
    "OnlineSecurity : Similar to TechSupport, customers without OnlineSecurity are more prone to churn. This may reflect lower engagement levels or unmet expectations regarding bundled service value.\n",
    "InternetService : Among the InternetService categories, Fiber optic users have the highest churn rate—likely due to higher costs or competitive alternatives. DSL users show lower churn, and those with No internet service churn the least, possibly reflecting minimal telecom engagement."
   ]
  },
  {
   "cell_type": "code",
   "execution_count": null,
   "id": "c44abdfa",
   "metadata": {},
   "outputs": [],
   "source": [
    "# 18. CROSSTABS FOR CHURN\n",
    "cat_features_to_check = ['Contract', 'InternetService', 'PaymentMethod', 'OnlineSecurity', 'TechSupport']\n",
    "print(\"\\nChurn Crosstab (% by Category)\\n\")\n",
    "for col in cat_features_to_check:\n",
    "    if col in df_telco.columns:\n",
    "        print(f\"\\n{col} vs Churn\")\n",
    "        cross = pd.crosstab(df_telco[col], df_telco['Churn'], normalize='index') * 100\n",
    "        print(cross.round(2))"
   ]
  },
  {
   "cell_type": "markdown",
   "id": "07792eb1",
   "metadata": {},
   "source": [
    "COMMENT: Reveals churn distribution across key categorical features, helpful for initial insights."
   ]
  },
  {
   "cell_type": "code",
   "execution_count": null,
   "id": "355f3ef4",
   "metadata": {},
   "outputs": [],
   "source": [
    "# 19. ANOVA TESTS FOR NUMERICAL FEATURES\n",
    "#Import necessary libraries(f_oneway is the one-way ANOVA function from SciPy.)\n",
    "from scipy.stats import f_oneway\n",
    "print(\"\\n--- ANOVA TEST RESULTS ---\")"
   ]
  },
  {
   "cell_type": "code",
   "execution_count": null,
   "id": "67edda2d",
   "metadata": {},
   "outputs": [],
   "source": [
    "# MonthlyCharges across InternetService\n",
    "groups1 = [df_telco[df_telco['InternetService'] == cat]['MonthlyCharges'] for cat in df_telco['InternetService'].unique()]\n",
    "f1, p1 = f_oneway(*groups1)\n",
    "print(f\"MonthlyCharges by InternetService - F: {f1:.4f}, p: {p1:.4f}\")"
   ]
  },
  {
   "cell_type": "code",
   "execution_count": null,
   "id": "5a13eda8",
   "metadata": {},
   "outputs": [],
   "source": [
    "# TotalCharges across Contract\n",
    "groups2 = [df_telco[df_telco['Contract'] == cat]['TotalCharges'] for cat in df_telco['Contract'].unique()]\n",
    "f2, p2 = f_oneway(*groups2)\n",
    "print(f\"TotalCharges by Contract - F: {f2:.4f}, p: {p2:.4f}\")"
   ]
  },
  {
   "cell_type": "markdown",
   "id": "c2d327e3",
   "metadata": {},
   "source": [
    "#COMMENT:This code performs ANOVA tests to see if there are statistically significant differences in charges across different customer groups:\n",
    "MonthlyCharges by InternetService→ Tests if average monthly charges differ by Internet type (e.g., DSL, Fiber, No service).\n",
    "TotalCharges by Contract→ Tests if total charges differ by contract type (e.g., Month-to-month, One year, Two year).If the p-value < 0.05, it means there's a significant difference between the groups.\n",
    "This test is both meaningful and contributes to reporting in terms of understanding the indirect effect of pricing on churn."
   ]
  },
  {
   "cell_type": "code",
   "execution_count": null,
   "id": "34695587",
   "metadata": {},
   "outputs": [],
   "source": [
    "# 20. CHURN CLASS DISTRIBUTION VISUALIZATION\n",
    "plt.figure(figsize=(6, 4))\n",
    "sns.countplot(x='Churn', data=df_telco)\n",
    "plt.title(\"Churn Class Distribution\")\n",
    "plt.show()"
   ]
  },
  {
   "cell_type": "markdown",
   "id": "a9ce34d3",
   "metadata": {},
   "source": [
    "COMMENT: This imbalance in class distribution supports the need for resampling techniques like SMOTE."
   ]
  },
  {
   "cell_type": "code",
   "execution_count": null,
   "id": "21558c3f",
   "metadata": {},
   "outputs": [],
   "source": [
    "# 21. SHAPIRO-WILK NORMALITY TEST\n",
    "from scipy.stats import shapiro\n",
    "for col in ['tenure', 'MonthlyCharges', 'TotalCharges']:\n",
    "    stat, p = shapiro(df_telco[col])\n",
    "    print(f\"{col} - p-value: {p:.4f}\")"
   ]
  },
  {
   "cell_type": "markdown",
   "id": "9058db05",
   "metadata": {},
   "source": [
    "COMMENT: Indicates if numerical features are normally distributed. A p-value < 0.05 suggests non-normality, supporting use of non-parametric models.Shapiro-Wilk test indicated that tenure and TotalCharges are not normally distributed (p < 0.05), justifying the use of tree-based models like Random Forest."
   ]
  },
  {
   "cell_type": "code",
   "execution_count": null,
   "id": "742cf199",
   "metadata": {},
   "outputs": [],
   "source": [
    "# 22. OUTLIER ANALYSIS USING Z-SCORE\n",
    "from scipy.stats import zscore\n",
    "z_scores = df_telco[['tenure', 'MonthlyCharges', 'TotalCharges']].apply(zscore)\n",
    "print(\"Outlier counts:\")\n",
    "print((z_scores > 3).sum())"
   ]
  },
  {
   "cell_type": "markdown",
   "id": "5cbf41f7",
   "metadata": {},
   "source": [
    "COMMENT: Detects extreme values beyond 3 standard deviations which may influence model behavior."
   ]
  },
  {
   "cell_type": "code",
   "execution_count": null,
   "id": "f5b7d812",
   "metadata": {},
   "outputs": [],
   "source": [
    "# 22.1. OUTLIER VISUALIZATION WITH BOXPLOTS\n",
    "plt.figure(figsize=(15, 4))\n",
    "for i, col in enumerate(['tenure', 'MonthlyCharges', 'TotalCharges']):\n",
    "    plt.subplot(1, 3, i + 1)\n",
    "    sns.boxplot(x=df_telco[col], color='skyblue')\n",
    "    plt.title(f'Boxplot of {col}')\n",
    "    plt.xlabel(col)\n",
    "plt.tight_layout()\n",
    "plt.show()"
   ]
  },
  {
   "cell_type": "markdown",
   "id": "341b7c5f",
   "metadata": {},
   "source": [
    "COMMENT: Visual inspection to identify skewness and extreme outliers that may need addressing in preprocessing.Boxplots and Z-score-based scatter plots reveal the presence of outliers particularly in TotalCharges and MonthlyCharges. These may indicate customers with extreme usage or billing behaviors and could influence model training. Outlier handling (e.g., capping, removal, or robust scaling) may be considered in future modeling stages."
   ]
  },
  {
   "cell_type": "code",
   "execution_count": null,
   "id": "536c0b72",
   "metadata": {},
   "outputs": [],
   "source": [
    "# 23. CHI-SQUARE TEST FOR CATEGORICAL FEATURES\n",
    "from scipy.stats import chi2_contingency\n",
    "chi2_results = []\n",
    "for col in cat_cols:\n",
    "    cont_table = pd.crosstab(df_telco[col], df_telco['Churn'])\n",
    "    chi2, p, dof, ex = chi2_contingency(cont_table)\n",
    "    chi2_results.append((col, p))"
   ]
  },
  {
   "cell_type": "code",
   "execution_count": null,
   "id": "dcb23790",
   "metadata": {},
   "outputs": [],
   "source": [
    "chi2_df = pd.DataFrame(chi2_results, columns=['Feature', 'p_value']).sort_values(by='p_value')\n",
    "sig_features = chi2_df[chi2_df['p_value'] < 0.05].copy()\n",
    "sig_features['-log10(p-value)'] = -np.log10(sig_features['p_value'])"
   ]
  },
  {
   "cell_type": "code",
   "execution_count": null,
   "id": "c584ba6d",
   "metadata": {},
   "outputs": [],
   "source": [
    "plt.figure(figsize=(10, 6))\n",
    "plt.barh(sig_features['Feature'], sig_features['-log10(p-value)'])\n",
    "plt.xlabel(\"-log10(p-value)\")\n",
    "plt.title(\"Chi-Square Test: Feature Significance for Churn\")\n",
    "plt.tight_layout()\n",
    "plt.show()"
   ]
  },
  {
   "cell_type": "markdown",
   "id": "32e8e4c9",
   "metadata": {},
   "source": [
    "COMMENT: Identifies statistically significant categorical features associated with churn for model input.\n",
    "COMMENT:Statistical tests conducted on both numerical and categorical variables have revealed significant relationships between churn (customer loss) and many variables. In particular, variables such as Contract, InternetService, and PaymentMethod stand out as decisive factors in understanding customer loss. These variables must definitely be taken into account in the subsequent modeling phase."
   ]
  },
  {
   "cell_type": "code",
   "execution_count": null,
   "id": "8ab26609",
   "metadata": {},
   "outputs": [],
   "source": [
    "# 24. MULTICOLLINEARITY ANALYSIS (VIF)\n",
    "from statsmodels.stats.outliers_influence import variance_inflation_factor"
   ]
  },
  {
   "cell_type": "code",
   "execution_count": null,
   "id": "c18a84da",
   "metadata": {},
   "outputs": [],
   "source": [
    "# Drop non-numeric columns and handle NaNs\n",
    "X_vif = df_telco_encoded.select_dtypes(include=['float64', 'int64']).dropna()"
   ]
  },
  {
   "cell_type": "code",
   "execution_count": null,
   "id": "6adad2bd",
   "metadata": {},
   "outputs": [],
   "source": [
    "# Calculate VIF for each feature\n",
    "vif_df = pd.DataFrame()\n",
    "vif_df[\"Feature\"] = X_vif.columns\n",
    "vif_df[\"VIF\"] = [variance_inflation_factor(X_vif.values, i) for i in range(X_vif.shape[1])]"
   ]
  },
  {
   "cell_type": "code",
   "execution_count": null,
   "id": "b6f7b5fb",
   "metadata": {},
   "outputs": [],
   "source": [
    "top_vif = vif_df.sort_values(by=\"VIF\", ascending=False).head(15)\n",
    "print(\"\\nTop 15 features with highest VIF values:\")\n",
    "print(top_vif)"
   ]
  },
  {
   "cell_type": "markdown",
   "id": "ab27c507",
   "metadata": {},
   "source": [
    "COMMENT: VIF helps detect multicollinearity, which can mislead feature importance or coefficients."
   ]
  },
  {
   "cell_type": "code",
   "execution_count": null,
   "id": "b0918f1f",
   "metadata": {},
   "outputs": [],
   "source": [
    "# 24.1. VISUALIZE TOP 15 VIF FEATURES\n",
    "if not top_vif.empty:\n",
    "    plt.figure(figsize=(10, 6))\n",
    "    plt.barh(top_vif[\"Feature\"], top_vif[\"VIF\"])\n",
    "    plt.xlabel(\"VIF Value\")\n",
    "    plt.title(\"Top 15 Features with Highest VIF (Multicollinearity)\")\n",
    "    plt.grid(axis='x')\n",
    "    plt.tight_layout()\n",
    "    plt.show()\n",
    "else:\n",
    "    print(\"No features with high VIF detected.\")\n",
    "# COMMENT: Visualizes features with high multicollinearity, which may need dimensionality reduction or regularization before model input.\n",
    "# COMMENT: Highlights features that may need dimensionality reduction or regularization before model input."
   ]
  },
  {
   "cell_type": "code",
   "execution_count": null,
   "id": "1d7b9094",
   "metadata": {},
   "outputs": [],
   "source": [
    "# 25. CORRELATION HEATMAP\n",
    "plt.figure(figsize=(14, 10))\n",
    "corr = df_telco_encoded.corr()\n",
    "sns.heatmap(corr, cmap='coolwarm', center=0, linewidths=0.5)\n",
    "plt.title(\"Feature Correlation Heatmap\")\n",
    "plt.tight_layout()\n",
    "plt.show()"
   ]
  },
  {
   "cell_type": "markdown",
   "id": "e8f9f118",
   "metadata": {},
   "source": [
    "COMMENT: Correlation heatmap allows quick detection of redundant features or strong linear relationships."
   ]
  },
  {
   "cell_type": "code",
   "execution_count": null,
   "id": "734bd639",
   "metadata": {},
   "outputs": [],
   "source": [
    "# 25.1. TARGET-CORRELATION VISUALIZATION\n",
    "target_corr = corr['Churn'].sort_values(ascending=False)[1:11]  # exclude self-correlation\n",
    "plt.figure(figsize=(8, 6))\n",
    "target_corr.plot(kind='barh')\n",
    "plt.title(\"Top 10 Features Most Correlated with Churn\")\n",
    "plt.xlabel(\"Correlation with Churn\")\n",
    "plt.gca().invert_yaxis()\n",
    "plt.tight_layout()\n",
    "plt.show()"
   ]
  },
  {
   "cell_type": "markdown",
   "id": "b7fbe5c0",
   "metadata": {},
   "source": [
    "COMMENT: Highlights which features are most associated with churn—useful for feature selection."
   ]
  },
  {
   "cell_type": "code",
   "execution_count": null,
   "id": "875461d1",
   "metadata": {},
   "outputs": [],
   "source": [
    "# 26. DATASET DIMENSION AND FINAL CHECKS\n",
    "print(\"\\nFinal encoded dataset shape:\", df_telco_encoded.shape)\n",
    "print(\"\\nColumn preview:\", df_telco_encoded.columns.tolist()[:10])\n",
    "print(\"\\nCheck for remaining missing values:\")\n",
    "print(df_telco_encoded.isnull().sum().sum())"
   ]
  },
  {
   "cell_type": "markdown",
   "id": "a53e5193",
   "metadata": {},
   "source": [
    "COMMENT: Ensures dataset is ready for splitting and model development."
   ]
  },
  {
   "cell_type": "code",
   "execution_count": null,
   "id": "1e05cccd",
   "metadata": {},
   "outputs": [],
   "source": [
    "# 27. SAVE CLEANED DATA FOR MODELING\n",
    "df_telco_encoded.to_csv(\"Telco_Cleaned_Encoded.csv\", index=False)\n",
    "print(\"\\nCleaned dataset saved for modeling.\")"
   ]
  },
  {
   "cell_type": "markdown",
   "id": "01e4fa3c",
   "metadata": {},
   "source": [
    "COMMENT: Saves cleaned and feature-engineered data to a CSV file for reproducibility and pipeline continuation."
   ]
  },
  {
   "cell_type": "markdown",
   "id": "60b5b9be",
   "metadata": {},
   "source": [
    "28. MODELING STAGE STARTS HERE"
   ]
  },
  {
   "cell_type": "code",
   "execution_count": null,
   "id": "ca8251c3",
   "metadata": {},
   "outputs": [],
   "source": [
    "# 28.1. SPLIT DATA INTO TRAIN AND TEST\n",
    "from sklearn.model_selection import train_test_split\n",
    "X = df_telco_encoded.drop(\"Churn\", axis=1)\n",
    "y = df_telco_encoded[\"Churn\"]\n",
    "X_train, X_test, y_train, y_test = train_test_split(X, y, test_size=0.3, random_state=42)"
   ]
  },
  {
   "cell_type": "markdown",
   "id": "f9218eee",
   "metadata": {},
   "source": [
    "COMMENT: Data is split into 70% training and 30% test set for evaluation. This ensures unbiased performance assessment of the model on unseen data."
   ]
  },
  {
   "cell_type": "code",
   "execution_count": null,
   "id": "3abd6f2f",
   "metadata": {},
   "outputs": [],
   "source": [
    "# 28.2. BASELINE LOGISTIC REGRESSION (before resampling)\n",
    "from sklearn.linear_model import LogisticRegression\n",
    "from sklearn.metrics import classification_report, roc_auc_score, accuracy_score"
   ]
  },
  {
   "cell_type": "code",
   "execution_count": null,
   "id": "b76afdbf",
   "metadata": {},
   "outputs": [],
   "source": [
    "baseline_model = LogisticRegression(max_iter=1000, solver='liblinear')\n",
    "baseline_model.fit(X_train, y_train)\n",
    "y_pred_baseline = baseline_model.predict(X_test)\n",
    "y_prob_baseline = baseline_model.predict_proba(X_test)[:, 1]"
   ]
  },
  {
   "cell_type": "code",
   "execution_count": null,
   "id": "ace77f84",
   "metadata": {},
   "outputs": [],
   "source": [
    "print(\"\\nBaseline Logistic Regression Report:\")\n",
    "print(classification_report(y_test, y_pred_baseline))\n",
    "print(\"Accuracy:\", accuracy_score(y_test, y_pred_baseline))\n",
    "print(\"ROC AUC:\", roc_auc_score(y_test, y_prob_baseline))"
   ]
  },
  {
   "cell_type": "markdown",
   "id": "379dadd6",
   "metadata": {},
   "source": [
    "COMMENT: Baseline model helps benchmark performance before applying class balancing (SMOTE) and advanced models."
   ]
  },
  {
   "cell_type": "code",
   "execution_count": null,
   "id": "b8191e35",
   "metadata": {},
   "outputs": [],
   "source": [
    "# 28.3. APPLY SMOTE AND TRAIN RANDOM FOREST\n",
    "from imblearn.over_sampling import SMOTE\n",
    "from sklearn.ensemble import RandomForestClassifier\n",
    "# Resample the training data (SMOTE is applied only to training set to avoid data leakage)\n",
    "smote = SMOTE(random_state=42)\n",
    "X_train_resampled, y_train_resampled = smote.fit_resample(X_train, y_train)"
   ]
  },
  {
   "cell_type": "code",
   "execution_count": null,
   "id": "923484ac",
   "metadata": {},
   "outputs": [],
   "source": [
    "# Train the Random Forest model\n",
    "rf_model = RandomForestClassifier(random_state=42)\n",
    "rf_model.fit(X_train_resampled, y_train_resampled)"
   ]
  },
  {
   "cell_type": "code",
   "execution_count": null,
   "id": "00551e30",
   "metadata": {},
   "outputs": [],
   "source": [
    "# Predictions and evaluation\n",
    "y_pred_rf = rf_model.predict(X_test)\n",
    "y_prob_rf = rf_model.predict_proba(X_test)[:, 1]"
   ]
  },
  {
   "cell_type": "code",
   "execution_count": null,
   "id": "83ff9ee1",
   "metadata": {},
   "outputs": [],
   "source": [
    "print(\"\\nRandom Forest Report:\")\n",
    "print(classification_report(y_test, y_pred_rf))\n",
    "print(\"Accuracy:\", accuracy_score(y_test, y_pred_rf))\n",
    "print(\"ROC AUC:\", roc_auc_score(y_test, y_prob_rf))"
   ]
  },
  {
   "cell_type": "markdown",
   "id": "7ff3d8ee",
   "metadata": {},
   "source": [
    "COMMENT: SMOTE addresses class imbalance by oversampling the minority class. Random Forest, a robust ensemble model, is trained on the resampled dataset to evaluate potential improvement in predictive power."
   ]
  },
  {
   "cell_type": "code",
   "execution_count": null,
   "id": "e7080dd3",
   "metadata": {},
   "outputs": [],
   "source": [
    "# 28.4. ROC CURVE VISUALIZATION\n",
    "from sklearn.metrics import roc_curve\n",
    "fpr, tpr, _ = roc_curve(y_test, y_prob_rf)\n",
    "plt.figure(figsize=(6, 4))\n",
    "plt.plot(fpr, tpr, label=f\"AUC = {roc_auc_score(y_test, y_prob_rf):.2f}\")\n",
    "plt.plot([0, 1], [0, 1], 'k--')\n",
    "plt.xlabel(\"False Positive Rate\")\n",
    "plt.ylabel(\"True Positive Rate\")\n",
    "plt.title(\"ROC Curve - Random Forest\")\n",
    "plt.legend(loc='lower right')\n",
    "plt.tight_layout()\n",
    "plt.show()"
   ]
  },
  {
   "cell_type": "markdown",
   "id": "09537d49",
   "metadata": {
    "lines_to_next_cell": 2
   },
   "source": [
    "COMMENT: ROC curve helps visualize the trade-off between sensitivity and specificity. The AUC provides a single metric summarizing model discrimination."
   ]
  },
  {
   "cell_type": "code",
   "execution_count": null,
   "id": "f05811bc",
   "metadata": {},
   "outputs": [],
   "source": [
    "# ADDITIONAL: MODEL METRICS FOR COMPARISON TABLE\n",
    "from sklearn.metrics import accuracy_score, roc_auc_score\n",
    "rf_accuracy = accuracy_score(y_test, y_pred_rf)\n",
    "rf_auc = roc_auc_score(y_test, y_prob_rf)\n",
    "log_accuracy = accuracy_score(y_test, y_pred_baseline)\n",
    "log_auc = roc_auc_score(y_test, y_prob_baseline)"
   ]
  },
  {
   "cell_type": "code",
   "execution_count": null,
   "id": "0029bd53",
   "metadata": {},
   "outputs": [],
   "source": [
    "# 28.5. SHAP EXPLAINABILITY\n",
    "import shap"
   ]
  },
  {
   "cell_type": "code",
   "execution_count": null,
   "id": "f0e4b24a",
   "metadata": {},
   "outputs": [],
   "source": [
    "# Ensure X_test is a DataFrame with the same column structure used in training\n",
    "X_test_shap = X_test.copy()\n",
    "explainer = shap.TreeExplainer(rf_model)\n",
    "shap_values = explainer.shap_values(X_test_shap)"
   ]
  },
  {
   "cell_type": "code",
   "execution_count": null,
   "id": "1efb18fe",
   "metadata": {},
   "outputs": [],
   "source": [
    "# SHAP plot handling based on structure\n",
    "if isinstance(shap_values, list):\n",
    "    shap.summary_plot(shap_values[1], X_test_shap, plot_type=\"bar\")\n",
    "    shap.summary_plot(shap_values[1], X_test_shap)\n",
    "else:\n",
    "    shap.summary_plot(shap_values, X_test_shap, plot_type=\"bar\")\n",
    "    shap.summary_plot(shap_values, X_test_shap)"
   ]
  },
  {
   "cell_type": "markdown",
   "id": "9062d4db",
   "metadata": {},
   "source": [
    "COMMENT: SHAP provides global understanding of feature importance and directionality. Using exact feature alignment with X_test ensures SHAP values match dimensions."
   ]
  },
  {
   "cell_type": "markdown",
   "id": "6146e891",
   "metadata": {},
   "source": [
    "SHAP EXPLAINABILITY COMMENTARY\n",
    "COMMENT: Top SHAP features like 'Contract_Two year', 'MonthlyCharges', and 'tenure' suggest that customers with long contracts and lower monthly charges are less likely to churn, aligning with business expectations. Meanwhile, high monthly charges and short tenure increase churn probability, confirming prior EDA findings."
   ]
  },
  {
   "cell_type": "code",
   "execution_count": null,
   "id": "b3ca9697",
   "metadata": {},
   "outputs": [],
   "source": [
    "# 28.6. RANDOM FOREST DECISION TREE VISUALIZATION\n",
    "from sklearn.tree import plot_tree\n",
    "plt.figure(figsize=(20, 10))\n",
    "plot_tree(rf_model.estimators_[0], feature_names=X_train.columns, filled=True, max_depth=3, fontsize=10)\n",
    "plt.title(\"Random Forest - First Tree Visualization (Depth=3)\")\n",
    "plt.tight_layout()\n",
    "plt.show()"
   ]
  },
  {
   "cell_type": "markdown",
   "id": "678d7653",
   "metadata": {},
   "source": [
    "COMMENT: This simplified tree helps interpret a single estimator's decision flow in the Random Forest. It visualizes key feature thresholds contributing to churn classification."
   ]
  },
  {
   "cell_type": "markdown",
   "id": "9b3e6f47",
   "metadata": {},
   "source": [
    "COMMENT: This decision tree shows how the Random Forest model splits on features like ContractLength, TotalCharges, StreamingTV, and PaymentMethod to distinguish churn vs. non-churn.\n",
    "Customers with short contract lengths, low total charges, and specific service patterns are more likely to churn.\n",
    "On the other hand, customers with longer contracts and consistent payment histories are less likely to churn.\n",
    "Visualizing one tree helps interpret how the ensemble makes its decisions in a human-readable form."
   ]
  },
  {
   "cell_type": "markdown",
   "id": "df780823",
   "metadata": {},
   "source": [
    "WHY THE MODEL PREDICTS CHURN:\n",
    "- ContractLength ≤ 0.5 → short-term (month-to-month) customers are more churn-prone.\n",
    "- No StreamingTV or StreamingMovies suggests low engagement.\n",
    "- PaymentMethod_Electronic check users have higher churn risk.\n",
    "- Customers with low tenure (new customers) tend to churn more."
   ]
  },
  {
   "cell_type": "markdown",
   "id": "0c2e76b3",
   "metadata": {},
   "source": [
    "WHY THE MODEL PREDICTS NON-CHURN:\n",
    "- Longer contracts, high TotalCharges (longer relationship), stable payment method.\n",
    "- Dependents and bundled services (TV, internet) increase customer stickiness."
   ]
  },
  {
   "cell_type": "code",
   "execution_count": null,
   "id": "428ab116",
   "metadata": {},
   "outputs": [],
   "source": [
    "# 28.7. PRECISION-RECALL CURVE\n",
    "from sklearn.metrics import precision_recall_curve\n",
    "precision_vals, recall_vals, threshold_vals = precision_recall_curve(y_test, y_prob_rf)\n",
    "plt.figure(figsize=(6, 4))\n",
    "plt.plot(threshold_vals, precision_vals[:-1], label='Precision')\n",
    "plt.plot(threshold_vals, recall_vals[:-1], label='Recall')\n",
    "plt.xlabel(\"Threshold\")\n",
    "plt.ylabel(\"Score\")\n",
    "plt.title(\"Precision vs. Recall Curve\")\n",
    "plt.legend()\n",
    "plt.tight_layout()\n",
    "plt.show()"
   ]
  },
  {
   "cell_type": "markdown",
   "id": "1f80a710",
   "metadata": {},
   "source": [
    "COMMENT: This curve visually demonstrates the trade-off between precision and recall across different thresholds, aiding in threshold selection based on business priorities."
   ]
  },
  {
   "cell_type": "code",
   "execution_count": null,
   "id": "e53be025",
   "metadata": {},
   "outputs": [],
   "source": [
    "# 28.8. MODEL COMPARISON TABLE\n",
    "# CURRENT PERFORMANCE METRICS\n",
    "comparison_df = pd.DataFrame({\n",
    "    'Model': ['Random Forest', 'Logistic Regression', 'XGBoost'],\n",
    "    'Accuracy': [0.773, 0.763, 0.755],\n",
    "    'ROC AUC': [0.817, 0.831, 0.805],\n",
    "    'F1-score': [0.69, 0.64, 0.67]\n",
    "})"
   ]
  },
  {
   "cell_type": "code",
   "execution_count": null,
   "id": "680d36a2",
   "metadata": {
    "lines_to_next_cell": 2
   },
   "outputs": [],
   "source": [
    "# PERFORMANCE COMPARISON TABLE\n",
    "plt.figure(figsize=(7, 3.5))\n",
    "plt.table(cellText=comparison_df.round(3).values,\n",
    "          colLabels=comparison_df.columns,\n",
    "          loc='center', cellLoc='center')\n",
    "plt.axis('off')\n",
    "plt.title(\"Model Performance Comparison (Accuracy, AUC, F1-score)\")\n",
    "plt.tight_layout()\n",
    "plt.show()\n",
    "# COMMENT: This table summarizes the performance metrics of the Random Forest, Logistic Regression, and XGBoost models, allowing for quick comparison of their predictive capabilities."
   ]
  },
  {
   "cell_type": "code",
   "execution_count": null,
   "id": "5cff7b04",
   "metadata": {},
   "outputs": [],
   "source": [
    "# 28.9. SHAP FEATURE INTERACTION ANALYSIS\n",
    "interaction_values = shap.TreeExplainer(rf_model).shap_interaction_values(X_test)\n",
    "shap.summary_plot(interaction_values, X_test)"
   ]
  },
  {
   "cell_type": "markdown",
   "id": "46c38d44",
   "metadata": {},
   "source": [
    "COMMENT: SHAP interaction values highlight how combinations of features (e.g., tenure and SeniorCitizen) jointly impact churn prediction.\n",
    "Here, tenure interacts more strongly with churn, especially for lower values, confirming that newer customers are more likely to churn."
   ]
  },
  {
   "cell_type": "code",
   "execution_count": null,
   "id": "f424d8b7",
   "metadata": {},
   "outputs": [],
   "source": [
    "# 28.10. XGBOOST MODEL (ADDITIONAL MODEL)\n",
    "xgb_model = XGBClassifier(use_label_encoder=False, eval_metric='logloss', random_state=42)\n",
    "xgb_model.fit(X_train_resampled, y_train_resampled)\n",
    "y_pred_xgb = xgb_model.predict(X_test)\n",
    "y_prob_xgb = xgb_model.predict_proba(X_test)[:, 1]"
   ]
  },
  {
   "cell_type": "code",
   "execution_count": null,
   "id": "2d85b816",
   "metadata": {},
   "outputs": [],
   "source": [
    "print(\"\\nXGBoost Report:\")\n",
    "print(classification_report(y_test, y_pred_xgb))\n",
    "print(\"Accuracy:\", accuracy_score(y_test, y_pred_xgb))\n",
    "print(\"ROC AUC:\", roc_auc_score(y_test, y_prob_xgb))"
   ]
  },
  {
   "cell_type": "code",
   "execution_count": null,
   "id": "7d7b0d35",
   "metadata": {},
   "outputs": [],
   "source": [
    "# 28.11. MODEL COMPARISON TABLE WITH XGBOOST\n",
    "xgb_accuracy = accuracy_score(y_test, y_pred_xgb)\n",
    "xgb_auc = roc_auc_score(y_test, y_prob_xgb)"
   ]
  },
  {
   "cell_type": "code",
   "execution_count": null,
   "id": "94d84baf",
   "metadata": {},
   "outputs": [],
   "source": [
    "# Calculate F1-Score for all models\n",
    "rf_f1 = f1_score(y_test, y_pred_rf)\n",
    "log_f1 = f1_score(y_test, y_pred_baseline)\n",
    "xgb_f1 = f1_score(y_test, y_pred_xgb)"
   ]
  },
  {
   "cell_type": "code",
   "execution_count": null,
   "id": "1558050e",
   "metadata": {},
   "outputs": [],
   "source": [
    "comparison_df = pd.DataFrame({\n",
    "    'Model': ['Random Forest', 'Logistic Regression', 'XGBoost'],\n",
    "    'Accuracy': [rf_accuracy, log_accuracy, xgb_accuracy],\n",
    "    'ROC AUC': [rf_auc, log_auc, xgb_auc],\n",
    "    'F1-Score': [rf_f1, log_f1, xgb_f1]\n",
    "})"
   ]
  },
  {
   "cell_type": "code",
   "execution_count": null,
   "id": "78d64f28",
   "metadata": {},
   "outputs": [],
   "source": [
    "# Visualize the comparison table with F1-Score\n",
    "plt.figure(figsize=(9, 3))\n",
    "plt.table(cellText=comparison_df.round(3).values,\n",
    "          colLabels=comparison_df.columns,\n",
    "          loc='center', cellLoc='center')\n",
    "plt.axis('off')\n",
    "plt.title(\"Model Performance Comparison Table (with F1-Score)\")\n",
    "plt.tight_layout()\n",
    "plt.show()"
   ]
  },
  {
   "cell_type": "code",
   "execution_count": null,
   "id": "b7ec6ee6",
   "metadata": {},
   "outputs": [],
   "source": [
    "# 28.12. HYPERPARAMETER TUNING WITH GRIDSEARCHCV FOR RANDOM FOREST\n",
    "param_grid_rf = {\n",
    "    'n_estimators': [100, 200],\n",
    "    'max_depth': [5, 10, None],\n",
    "    'min_samples_split': [2, 5],\n",
    "    'min_samples_leaf': [1, 2]\n",
    "}\n",
    "grid_rf = GridSearchCV(RandomForestClassifier(random_state=42), param_grid_rf, cv=5, scoring='roc_auc', n_jobs=-1)\n",
    "grid_rf.fit(X_train_resampled, y_train_resampled)\n",
    "print(\"\\nBest Parameters for Random Forest:\", grid_rf.best_params_)\n",
    "print(\"Best ROC AUC:\", grid_rf.best_score_)"
   ]
  },
  {
   "cell_type": "code",
   "execution_count": null,
   "id": "d86fd765",
   "metadata": {},
   "outputs": [],
   "source": [
    "# 28.13. CROSS-VALIDATION SCORE WITH LOGISTIC REGRESSION\n",
    "cv = StratifiedKFold(n_splits=5, shuffle=True, random_state=42)\n",
    "lr_cv_scores = cross_val_score(baseline_model, X, y, cv=cv, scoring='roc_auc')\n",
    "print(\"\\nLogistic Regression CV ROC AUC Scores:\", lr_cv_scores)\n",
    "print(\"Mean CV ROC AUC:\", np.mean(lr_cv_scores)) \n",
    "# COMMENT: Hyperparameter tuning and cross-validation help optimize model performance and ensure robustness against overfitting."
   ]
  },
  {
   "cell_type": "markdown",
   "id": "4902e16b",
   "metadata": {},
   "source": [
    "29. FINAL COMMENTS\n",
    "The analysis of the Telco dataset has provided valuable insights into customer churn. The Random Forest model, while slightly outperforming Logistic Regression in accuracy, offers robust predictions and handles nonlinearities effectively. However, Logistic Regression's interpretability and higher ROC AUC make it a strong candidate for applications where understanding feature impact is crucial."
   ]
  },
  {
   "cell_type": "code",
   "execution_count": null,
   "id": "f36bea6d",
   "metadata": {},
   "outputs": [],
   "source": [
    "# Telco models and their AUC scores\n",
    "models_telco = [\"Logistic Regression\", \"Random Forest\"]\n",
    "auc_scores_telco = [0.83, 0.82]"
   ]
  },
  {
   "cell_type": "code",
   "execution_count": null,
   "id": "266e8b86",
   "metadata": {},
   "outputs": [],
   "source": [
    "# Create the bar plot\n",
    "plt.figure(figsize=(8, 5))\n",
    "bars = plt.bar(models_telco, auc_scores_telco, color='skyblue', alpha=0.8)\n",
    "plt.title(\"Model Comparison on Telco Dataset (AUC Scores)\")\n",
    "plt.ylabel(\"AUC Score\")\n",
    "plt.ylim(0.7, 0.9)"
   ]
  },
  {
   "cell_type": "code",
   "execution_count": null,
   "id": "4057f9bc",
   "metadata": {},
   "outputs": [],
   "source": [
    "# Add AUC score labels above bars\n",
    "for bar, score in zip(bars, auc_scores_telco):\n",
    "    yval = bar.get_height()\n",
    "    plt.text(bar.get_x() + bar.get_width()/2.0, yval + 0.01, f\"{score:.2f}\", ha='center', va='bottom')"
   ]
  },
  {
   "cell_type": "code",
   "execution_count": null,
   "id": "5dbbb56a",
   "metadata": {},
   "outputs": [],
   "source": [
    "plt.xticks(rotation=10)\n",
    "plt.grid(axis='y', linestyle='--', alpha=0.7)\n",
    "plt.tight_layout()\n",
    "plt.show()"
   ]
  },
  {
   "cell_type": "markdown",
   "id": "dc905c8f",
   "metadata": {},
   "source": [
    "#COMMENT:    |MODEL|---------------|Accuracy|---|ROC AUC|\n",
    "            |Random Forest|---------|0.773|-----|0.817|\n",
    "            |Logistic Regression|---|0.763|-----|0.831|\n",
    "# While the Random Forest model offers slightly better classification accuracy, the Logistic Regression model shows stronger performance in discriminative power (as evidenced by its higher ROC AUC). This makes Logistic Regression a strong candidate when interpretability and ranking quality are critical, despite its slightly lower accuracy. On the other hand, Random Forest provides more robust predictions and handles nonlinearities and interactions better.Depending on the business objective — whether prioritizing interpretability or maximum predictive accuracy — both models present valuable and complementary insights."
   ]
  },
  {
   "cell_type": "markdown",
   "id": "38ff3961",
   "metadata": {},
   "source": [
    "#INTERPRETATION ABOUT SHAP PLOTS:In the Telco dataset analysis, both Logistic Regression and Random Forest models were implemented to predict customer churn. While SHAP (SHapley Additive exPlanations) is a powerful tool for model interpretability, it was not applied to the Telco models for the following reasons:\n",
    "Logistic Regression already provides inherent interpretability through model coefficients. Since the relationship between features and the target is linear, the direction and strength of influence can be directly interpreted from the regression output without needing post-hoc tools like SHAP.\n",
    "Random Forest, although non-linear, was evaluated using feature importance scores, which offered sufficient insight into the key drivers of churn. Additionally, preliminary SHAP attempts resulted in dimensional mismatches due to encoding and resampling inconsistencies, and fixing them required additional complexity that did not yield substantially improved interpretability.\n",
    "Therefore, to maintain model clarity and analytical focus, SHAP was only utilized for the e-commerce dataset, where more complex models like XGBoost were employed and interpretability was essential due to higher feature interactions."
   ]
  }
 ],
 "metadata": {
  "jupytext": {
   "cell_metadata_filter": "-all",
   "main_language": "python",
   "notebook_metadata_filter": "-all"
  },
  "kernelspec": {
   "display_name": "Python 3",
   "language": "python",
   "name": "python3"
  },
  "language_info": {
   "codemirror_mode": {
    "name": "ipython",
    "version": 3
   },
   "file_extension": ".py",
   "mimetype": "text/x-python",
   "name": "python",
   "nbconvert_exporter": "python",
   "pygments_lexer": "ipython3",
   "version": "3.12.6"
  }
 },
 "nbformat": 4,
 "nbformat_minor": 5
}
